{
 "cells": [
  {
   "cell_type": "code",
   "execution_count": 35,
   "metadata": {
    "collapsed": true
   },
   "outputs": [],
   "source": [
    "\"\"\"\n",
    "Dashboard Settings\n",
    "\"\"\"\n",
    "from taxcalc import *\n",
    "from collections import OrderedDict\n",
    "\n",
    "start_year = 2017\n",
    "records_url = 'puf.csv'"
   ]
  },
  {
   "cell_type": "code",
   "execution_count": 36,
   "metadata": {
    "collapsed": false
   },
   "outputs": [],
   "source": [
    "\"\"\"\n",
    "Behavioral Settings\n",
    "\"\"\"\n",
    "tyc_beh = {start_year: {'_BE_inc': [0.0], \n",
    "                        '_BE_sub': [0.4], \n",
    "                        '_BE_cg': [0.0]}}\n",
    "\n",
    "# The following name will be used as the comparative baseline case in the calculation of formulas and automated notes\n",
    "beh_0 = {start_year: {'_BE_inc': [0.0],\n",
    "                      '_BE_sub': [0.4],\n",
    "                      '_BE_cg': [0.0]}}\n",
    "beh_1 = {start_year: {'_BE_inc': [0.0],\n",
    "                      '_BE_sub': [0.4],\n",
    "                      '_BE_cg': [0.0]}}\n",
    "\n",
    "# behavior dict with static baseline\n",
    "# beh_dict = OrderedDict([(base_beh, beh_0), ('Dynamic', beh_1)])\n",
    "\n",
    "# behavior dict w/o static baseline\n",
    "beh_dict = OrderedDict([('Dynamic', beh_1)])"
   ]
  },
  {
   "cell_type": "code",
   "execution_count": 37,
   "metadata": {
    "collapsed": false
   },
   "outputs": [],
   "source": [
    "\"\"\"\n",
    "Policy Settings\n",
    "\"\"\"\n",
    "\n",
    "# (excluding mortgage interest, state and local, and real estate deductions)\n",
    "\n",
    "base_law = 'Current Law'\n",
    "\n",
    "current_law = {start_year: {}}\n",
    "\n",
    "ref_1 = {start_year: {'_ID_Medical_hc' : [1.0], \n",
    "                      '_ID_StateLocalTax_hc' : [1.0], \n",
    "                      '_ID_RealEstate_hc' : [1.0], \n",
    "                      '_ID_InterestPaid_hc' : [1.0],\n",
    "                      '_ID_Charity_hc' : [1.0],\n",
    "                      '_ID_Casualty_hc' : [1.0],\n",
    "                      '_STD': [[6350 * 2, 12700 * 2, 6350 * 2, 9350 * 2, 12700 * 2]]}}\n",
    "\n",
    "ref_2 = {start_year: {'_ID_Medical_hc' : [1.0], \n",
    "                      '_ID_StateLocalTax_hc' : [1.0], \n",
    "                      '_ID_RealEstate_hc' : [1.0], \n",
    "                      '_ID_InterestPaid_hc' : [1.0],\n",
    "                      '_ID_Charity_hc' : [1.0],\n",
    "                      '_ID_Casualty_hc' : [1.0],\n",
    "                      '_STD': [[6350 * 2, 12700 * 2, 6350 * 2, 9350 * 2, 12700 * 2]],\n",
    "                      '_II_em': [0]}}\n",
    "\n",
    "ref_dict = OrderedDict([(base_law, current_law),\n",
    "                        ('Repeal ID & Double SD', ref_1), \n",
    "                        ('Repeal ID, Double SD, & Repeal PE', ref_2)])"
   ]
  },
  {
   "cell_type": "code",
   "execution_count": 38,
   "metadata": {
    "collapsed": false
   },
   "outputs": [
    {
     "name": "stdout",
     "output_type": "stream",
     "text": [
      "----------------------------------------------------------------------\n",
      "Begin execution of auto_calc.py\n",
      "----------------------------------------------------------------------\n",
      " \n",
      "You loaded data for 2009.\n",
      "Tax-Calculator startup automatically extrapolated your data to 2013.\n",
      " \n",
      "----------------------------------------------------------------------\n",
      "Begin calculator generation\n",
      "----------------------------------------------------------------------\n",
      "You loaded data for 2009.\n",
      "Tax-Calculator startup automatically extrapolated your data to 2013.\n",
      "You loaded data for 2009.\n",
      "Tax-Calculator startup automatically extrapolated your data to 2013.\n",
      "Done\n",
      "You loaded data for 2009.\n",
      "Tax-Calculator startup automatically extrapolated your data to 2013.\n",
      "You loaded data for 2009.\n",
      "Tax-Calculator startup automatically extrapolated your data to 2013.\n",
      "Done\n",
      "You loaded data for 2009.\n",
      "Tax-Calculator startup automatically extrapolated your data to 2013.\n",
      "You loaded data for 2009.\n",
      "Tax-Calculator startup automatically extrapolated your data to 2013.\n",
      "Done\n",
      "----------------------------------------------------------------------\n",
      "Calculator generation complete\n",
      "----------------------------------------------------------------------\n",
      " \n",
      "----------------------------------------------------------------------\n",
      "Ten year cost estimates (static)\n",
      "----------------------------------------------------------------------\n",
      "0.0\n",
      "504.817819232\n",
      "2048.27294639\n",
      "Done\n",
      "----------------------------------------------------------------------\n",
      "Ten year cost estimates (static) complete\n",
      "----------------------------------------------------------------------\n",
      " \n",
      "----------------------------------------------------------------------\n",
      "Perform ten year cost estimates (with behavioral response)\n",
      "----------------------------------------------------------------------\n",
      "0.0\n",
      "559.938958186\n",
      "2091.49025108\n",
      "Done\n",
      "----------------------------------------------------------------------\n",
      "Ten year cost estimates (with behavioral response) complete\n",
      "----------------------------------------------------------------------\n",
      " \n",
      "----------------------------------------------------------------------\n",
      "Execution of auto_calc.py complete\n",
      "----------------------------------------------------------------------\n"
     ]
    }
   ],
   "source": [
    "\"\"\"\n",
    "The first item in 'column_list' should either be 'Reform',\n",
    "if the table is to be indexed by policy reforms, or 'behavior',\n",
    "if the table is to be indexed by behavioral assumptions\n",
    "\"\"\"\n",
    "\n",
    "column_label = 'Policy'\n",
    "column_list = ['Reform',\n",
    "               'Taxpayers Receiving Tax Cut (millions)',\n",
    "               'Itemizers (millions)',\n",
    "               'Taxpayers Facing Lower Marginal Tax Rate (millions)',\n",
    "               'Taxpayers Paying Zero or Less Income Tax (millions)',\n",
    "               '10-Year Revenue Change, Dynamic (billions)']\n",
    "\n",
    "execfile('auto_calc.py')"
   ]
  },
  {
   "cell_type": "code",
   "execution_count": 39,
   "metadata": {
    "collapsed": true
   },
   "outputs": [],
   "source": [
    "\"\"\"\n",
    "Document Settings\n",
    "\"\"\"\n",
    "project_name = 'personal_exemption'\n",
    "paper_title = 'Repealing the Personal Exemption'\n",
    "paper_subtitle = 'Powered by Open Source Policy Modeling'\n",
    "paper_author = ' Alex Brill'\n",
    "paper_institute = 'American Enterprise Institute'\n",
    "paper_date = 'NoEscape(r'\\today')'\n",
    "paper_series = 'Tax Brief Series'\n",
    "paper_bio = 'is a research fellow at the American Enterprise Institute (AEI).'"
   ]
  },
  {
   "cell_type": "code",
   "execution_count": 40,
   "metadata": {
    "collapsed": true
   },
   "outputs": [],
   "source": [
    "execfile('auto_func.py')"
   ]
  },
  {
   "cell_type": "code",
   "execution_count": 41,
   "metadata": {
    "collapsed": false
   },
   "outputs": [],
   "source": [
    "# This string is included under the 'policy' heading\n",
    "policy_string = \"Under current law, taxpayers can claim a personal exemption \\\n",
    "for themselves, their spouse, and each qualified dependent. The personal exemption amount will be $4,050 in 2017. \\\n",
    "The actual benefit depends on the taxpayer's marginal tax rate and gross income. \\\n",
    "Taxpayer's can also claim a standard deduction as an alternative to itemizing one's deductions. \\\n",
    "In 2017, the standard deduction will be $6,350 for single filers, $9,350 for head of \\\n",
    "household filers, and $12,700 for married couples filing jointly.\"\n",
    "\n",
    "# This string is included under the 'reform options' heading\n",
    "options_string = \"Using the open-source Tax-Calculator, I present the results of two modifications to current law: (1) \\\n",
    "repeal all itemized deductions (IDs) except mortgage interest deduction and charitable deduction and double standard deduction (SD), or \\\n",
    "(2) repeal these deductions, double standard deduction, and repeal the personal exemption (PE). \\\n",
    "These reforms implemented in each iteration of the model.\"\n",
    "\n",
    "# the following string is included under the 'modeling notes' heading and 'tax-calculator' subheading\n",
    "tax_calculator_string = \"Tax-Calculator is an open source \\\n",
    "microsimulation tax model that computes federal individual income taxes and Federal Insurance \\\n",
    "Contribution Act (FICA) taxes for a sample of tax filing units for years beginning with 2013. \\\n",
    "The model can be used to simulate changes to federal tax policy to conduct revenue scoring, \\\n",
    "distributional impacts, and reform analysis. As an open source model, Tax-Calculator is under \\\n",
    "constant development and improvement. Therefore, the results reported in this paper will change \\\n",
    "as imporvements are made. The model relies on data from the 2009 IRS Public Use File (PUF). \\\n",
    "These results are generated using Tax-Calculator Version 0.8.3.\"\n",
    "\n",
    "# the following string is included under the 'modeling notes' heading and 'modeling assumptions' subheading\n",
    "modeling_assumptions_string = \"The simulation is a partial equalibrium analysis that uses an \\\n",
    "elasticity of taxable income of 0.4. The following itemized deductions are repealed as part of the reforms: \\\n",
    "medical expenses, state and local taxes, real estate, interest, and charity (as labelled in Tax-Calculator).\"\n",
    "\n",
    "# the following bullets are included under the 'comments' section\n",
    "bullet_0 = (\"The budgetary difference between those two options is \" +\n",
    "            str('{:.1f} million'.format(abs(ten_year_cost_PE(calc_dict['Repeal ID, Double SD, & Repeal PE']['Dynamic'],\n",
    "                                                             calc_dict['Repeal ID & Double SD']['Dynamic'],\n",
    "                                                             beh_dict['Dynamic'])))) +\n",
    "            \" over 10 years.\")\n",
    "\n",
    "bullet_1 = (\"Under current law, \" \n",
    "            + str('{:.1f} million'.format(num_std(calc_cl) / 10**6)) \n",
    "            + \" taxpayers are expected to claim the standard deduction, and \" \n",
    "            + str('{:.1f} million'.format(num_ided(calc_cl) / 10**6)) \n",
    "            + \" are expected to itemize their deductions in \" + str(start_year) + \".\")\n",
    "\n",
    "bullet_2 = (\"When all itemized deductions are repealed, the standard deduction is doubled, \"\n",
    "            + \"and the personal exemption is kept in place the number of itemizers decreases from, \"\n",
    "            + str('{:.1f} million'.format(num_ided(calc_dict['Current Law']['Dynamic']) / 10**6))\n",
    "            + \" to \" \n",
    "            + str('{:.1f} million'.format(num_ided(calc_dict['Repeal ID & Double SD']['Dynamic']) / 10**6))\n",
    "            + \" and \"\n",
    "            + str('{:,.1f} million'.format(lwrMTR_wages(calc_cl, calc_dict['Repeal ID & Double SD']['Dynamic']) / 10.0**6)) \n",
    "            + \" taxpayers face a lower marginal rate.\")\n",
    "            \n",
    "bullet_3 = (\"If in addition the personal exemption is eliminated, \" \n",
    "            + str('{:,.1f}'.format((num_taxcut(calc_cl, calc_dict['Repeal ID, Double SD, & Repeal PE']['Dynamic']) - num_taxcut(calc_cl, calc_dict['Repeal ID & Double SD']['Dynamic'])) / 10.0**6))\n",
    "            + \" million fewer taxpayers receive a tax cut and \"\n",
    "            + str('{:,.1f}'.format((lwrMTR_wages(calc_cl, calc_dict['Repeal ID, Double SD, & Repeal PE']['Dynamic']) - lwrMTR_wages(calc_cl, calc_dict['Repeal ID & Double SD']['Dynamic'])) / 10.0**6))\n",
    "            + \" million fewer will face a lower rate.\")            \n",
    "\n",
    "bullets_std = []\n",
    "bullets_nstd = [bullet_0, bullet_1, bullet_2, bullet_3]"
   ]
  },
  {
   "cell_type": "code",
   "execution_count": 42,
   "metadata": {
    "collapsed": false
   },
   "outputs": [],
   "source": [
    "# produce document\n",
    "#!    graphs are currently uncommented\n",
    "\n",
    "doc = Document(project_name, geometry_options = {'top': '1.0in', 'bottom': '1.0in'})\n",
    "add_packages(doc)\n",
    "header(doc)\n",
    "policy(doc)\n",
    "options(doc)\n",
    "v2_table(doc)\n",
    "auto_comments(doc)\n",
    "notes(doc)\n",
    "author(doc)\n",
    "logo_footer(doc)\n",
    "# graphs('Effective Marginal Tax Rates', r'1\\textwidth', dpi=300)\n",
    "doc.generate_pdf(project_name + '_W2', clean_tex=False)"
   ]
  },
  {
   "cell_type": "code",
   "execution_count": null,
   "metadata": {
    "collapsed": true
   },
   "outputs": [],
   "source": []
  }
 ],
 "metadata": {
  "kernelspec": {
   "display_name": "Python 2",
   "language": "python",
   "name": "python2"
  },
  "language_info": {
   "codemirror_mode": {
    "name": "ipython",
    "version": 2
   },
   "file_extension": ".py",
   "mimetype": "text/x-python",
   "name": "python",
   "nbconvert_exporter": "python",
   "pygments_lexer": "ipython2",
   "version": "2.7.13"
  }
 },
 "nbformat": 4,
 "nbformat_minor": 2
}
