{
 "cells": [
  {
   "cell_type": "code",
   "execution_count": 1,
   "metadata": {
    "collapsed": true
   },
   "outputs": [],
   "source": [
    "\"\"\"\n",
    "Dashboard Settings\n",
    "\"\"\"\n",
    "from taxcalc import *\n",
    "\n",
    "start_year = 2017\n",
    "records_url = 'puf.csv'"
   ]
  },
  {
   "cell_type": "code",
   "execution_count": 2,
   "metadata": {
    "collapsed": true
   },
   "outputs": [],
   "source": [
    "\"\"\"\n",
    "Behavioral Settings\n",
    "\"\"\"\n",
    "tyc_beh = {start_year: {'_BE_inc': [0.0],\n",
    "                        '_BE_sub': [0.4],\n",
    "                        '_BE_cg': [0.0],\n",
    "                        '_BE_charity': [[-0.9999, -0.9999, -0.9999]]}}\n",
    "\n",
    "# The following name will be used as the comparative baseline case in the calculation of formulas and automated notes\n",
    "baseline_behavior_name = 'Baseline'\n",
    "\n",
    "beh_0 = {start_year: {}}\n",
    "beh_1 = {start_year: {'_BE_inc': [0.0],\n",
    "                      '_BE_sub': [0.4],\n",
    "                      '_BE_cg': [0.0],\n",
    "                      '_BE_charity': [[0.0, 0.0, 0.0]]}}\n",
    "beh_2 = {start_year: {'_BE_inc': [0.0],\n",
    "                      '_BE_sub': [0.4],\n",
    "                      '_BE_cg': [0.0],\n",
    "                      '_BE_charity': [[-0.5, -0.5, -0.5]]}}\n",
    "beh_3 = {start_year: {'_BE_inc': [0.0],\n",
    "                      '_BE_sub': [0.4],\n",
    "                      '_BE_cg': [0.0],\n",
    "                      '_BE_charity': [[-0.9999, -0.9999, -0.9999]]}}\n",
    "beh_4 = {start_year: {'_BE_inc': [0.0],\n",
    "                      '_BE_sub': [0.4],\n",
    "                      '_BE_cg': [0.0],\n",
    "                      '_BE_charity': [[-2.0, -2.0, -2.0]]}}\n",
    "beh_dict = OrderedDict([('0.0', beh_1),\n",
    "                        ('-0.5', beh_2),\n",
    "                        ('-1.0', beh_3),\n",
    "                        ('-2.0', beh_4)])"
   ]
  },
  {
   "cell_type": "code",
   "execution_count": 3,
   "metadata": {
    "collapsed": true
   },
   "outputs": [],
   "source": [
    "\"\"\"\n",
    "Policy Settings\n",
    "\"\"\"\n",
    "current_law = {start_year: {}}\n",
    "\n",
    "ref_1 = {start_year: {'_ID_c': [[100000, 200000, 100000, 100000, 100000]]}}\n",
    "\n",
    "ref_dict = OrderedDict([(\"Cap Itemized Deductions\", ref_1)])"
   ]
  },
  {
   "cell_type": "code",
   "execution_count": 4,
   "metadata": {
    "collapsed": true
   },
   "outputs": [],
   "source": [
    "\"\"\"\n",
    "The first item in 'column_list' should either be 'Reform',\n",
    "if the table is to be indexed by policy reforms, or 'behavior',\n",
    "if the table is to be indexed by behavioral assumptions\n",
    "\"\"\"\n",
    "\n",
    "column_label = 'Elasticity'\n",
    "\n",
    "column_list = ['Behavior',\n",
    "               'Taxpayers Receiving Tax Cut (millions)'\n",
    "               'Taxpayers Receiving Tax Hike (millions)',\n",
    "               'Wght. Ave. MTR on Charitable Contributions',\n",
    "               'Total Charitable Contributions (billions)',\n",
    "               '10-Year Revenue Change, Dynamic (billions)']"
   ]
  },
  {
   "cell_type": "code",
   "execution_count": 5,
   "metadata": {
    "collapsed": false
   },
   "outputs": [
    {
     "name": "stdout",
     "output_type": "stream",
     "text": [
      "You loaded data for 2009.\n",
      "Tax-Calculator startup automatically extrapolated your data to 2013.\n",
      "Done\n",
      "You loaded data for 2009.\n",
      "Tax-Calculator startup automatically extrapolated your data to 2013.\n",
      "You loaded data for 2009.\n",
      "Tax-Calculator startup automatically extrapolated your data to 2013.\n",
      "Done\n",
      "304.818158758\n",
      "305.538210086\n",
      "309.355518462\n"
     ]
    },
    {
     "ename": "KeyboardInterrupt",
     "evalue": "",
     "output_type": "error",
     "traceback": [
      "\u001b[0;31m---------------------------------------------------------------------------\u001b[0m",
      "\u001b[0;31mKeyboardInterrupt\u001b[0m                         Traceback (most recent call last)",
      "\u001b[0;32m<ipython-input-5-853e1c904193>\u001b[0m in \u001b[0;36m<module>\u001b[0;34m()\u001b[0m\n\u001b[0;32m----> 1\u001b[0;31m \u001b[0mexecfile\u001b[0m\u001b[1;33m(\u001b[0m\u001b[1;34m'auto_calc.py'\u001b[0m\u001b[1;33m)\u001b[0m\u001b[1;33m\u001b[0m\u001b[0m\n\u001b[0m",
      "\u001b[0;32mC:\\Users\\will.ensor\\Documents\\GitHub\\tax-calculator\\auto_calc.py\u001b[0m in \u001b[0;36m<module>\u001b[0;34m()\u001b[0m\n\u001b[1;32m    160\u001b[0m \u001b[1;33m\u001b[0m\u001b[0m\n\u001b[1;32m    161\u001b[0m \u001b[0mdict_calculator\u001b[0m\u001b[1;33m(\u001b[0m\u001b[0mref_dict\u001b[0m\u001b[1;33m,\u001b[0m \u001b[0mstart_year\u001b[0m\u001b[1;33m,\u001b[0m \u001b[0mbeh_dict\u001b[0m\u001b[1;33m,\u001b[0m \u001b[0mrecords_url\u001b[0m\u001b[1;33m)\u001b[0m\u001b[1;33m\u001b[0m\u001b[0m\n\u001b[0;32m--> 162\u001b[0;31m \u001b[0mdict_ten_year_cost\u001b[0m\u001b[1;33m(\u001b[0m\u001b[0mcalc_dict\u001b[0m\u001b[1;33m,\u001b[0m \u001b[0mcalc_cl\u001b[0m\u001b[1;33m)\u001b[0m\u001b[1;33m\u001b[0m\u001b[0m\n\u001b[0m\u001b[1;32m    163\u001b[0m \u001b[0mdict_ten_year_cost_PE\u001b[0m\u001b[1;33m(\u001b[0m\u001b[0mcalc_cl\u001b[0m\u001b[1;33m,\u001b[0m \u001b[0mtyc_beh\u001b[0m\u001b[1;33m,\u001b[0m \u001b[0mcalc_dict\u001b[0m\u001b[1;33m)\u001b[0m\u001b[1;33m\u001b[0m\u001b[0m\n",
      "\u001b[0;32mC:\\Users\\will.ensor\\Documents\\GitHub\\tax-calculator\\auto_calc.py\u001b[0m in \u001b[0;36mdict_ten_year_cost\u001b[0;34m(calc_dict, calc_cl)\u001b[0m\n\u001b[1;32m    104\u001b[0m             \u001b[0mkey2\u001b[0m \u001b[1;33m=\u001b[0m \u001b[0mkey\u001b[0m\u001b[1;33m\u001b[0m\u001b[0m\n\u001b[1;32m    105\u001b[0m             cost_dict[key1][key2] = ten_year_cost(calc_cl,\n\u001b[0;32m--> 106\u001b[0;31m                                                   cost_dict[key1][key2])\n\u001b[0m\u001b[1;32m    107\u001b[0m             \u001b[1;32mprint\u001b[0m\u001b[1;33m(\u001b[0m\u001b[0mcost_dict\u001b[0m\u001b[1;33m[\u001b[0m\u001b[0mkey1\u001b[0m\u001b[1;33m]\u001b[0m\u001b[1;33m[\u001b[0m\u001b[0mkey2\u001b[0m\u001b[1;33m]\u001b[0m\u001b[1;33m)\u001b[0m\u001b[1;33m\u001b[0m\u001b[0m\n\u001b[1;32m    108\u001b[0m     \u001b[1;32mprint\u001b[0m\u001b[1;33m(\u001b[0m\u001b[1;34m'Done'\u001b[0m\u001b[1;33m)\u001b[0m\u001b[1;33m\u001b[0m\u001b[0m\n",
      "\u001b[0;32mC:\\Users\\will.ensor\\Documents\\GitHub\\tax-calculator\\auto_calc.py\u001b[0m in \u001b[0;36mten_year_cost\u001b[0;34m(calc_base, calc_ref)\u001b[0m\n\u001b[1;32m     83\u001b[0m     \u001b[1;32mfor\u001b[0m \u001b[0mi\u001b[0m \u001b[1;32min\u001b[0m \u001b[0mrange\u001b[0m\u001b[1;33m(\u001b[0m\u001b[1;36m10\u001b[0m\u001b[1;33m)\u001b[0m\u001b[1;33m:\u001b[0m\u001b[1;33m\u001b[0m\u001b[0m\n\u001b[1;32m     84\u001b[0m         \u001b[0mcalc1\u001b[0m\u001b[1;33m.\u001b[0m\u001b[0mcalc_all\u001b[0m\u001b[1;33m(\u001b[0m\u001b[1;33m)\u001b[0m\u001b[1;33m\u001b[0m\u001b[0m\n\u001b[0;32m---> 85\u001b[0;31m         \u001b[0mcalc2\u001b[0m\u001b[1;33m.\u001b[0m\u001b[0mcalc_all\u001b[0m\u001b[1;33m(\u001b[0m\u001b[1;33m)\u001b[0m\u001b[1;33m\u001b[0m\u001b[0m\n\u001b[0m\u001b[1;32m     86\u001b[0m         \u001b[0mcalc1_combined\u001b[0m \u001b[1;33m=\u001b[0m \u001b[1;33m(\u001b[0m\u001b[0mcalc1\u001b[0m\u001b[1;33m.\u001b[0m\u001b[0mrecords\u001b[0m\u001b[1;33m.\u001b[0m\u001b[0mcombined\u001b[0m \u001b[1;33m*\u001b[0m \u001b[0mcalc1\u001b[0m\u001b[1;33m.\u001b[0m\u001b[0mrecords\u001b[0m\u001b[1;33m.\u001b[0m\u001b[0ms006\u001b[0m\u001b[1;33m)\u001b[0m\u001b[1;33m\u001b[0m\u001b[0m\n\u001b[1;32m     87\u001b[0m         \u001b[0mcalc2_combined\u001b[0m \u001b[1;33m=\u001b[0m \u001b[1;33m(\u001b[0m\u001b[0mcalc2\u001b[0m\u001b[1;33m.\u001b[0m\u001b[0mrecords\u001b[0m\u001b[1;33m.\u001b[0m\u001b[0mcombined\u001b[0m \u001b[1;33m*\u001b[0m \u001b[0mcalc2\u001b[0m\u001b[1;33m.\u001b[0m\u001b[0mrecords\u001b[0m\u001b[1;33m.\u001b[0m\u001b[0ms006\u001b[0m\u001b[1;33m)\u001b[0m\u001b[1;33m\u001b[0m\u001b[0m\n",
      "\u001b[0;32mC:\\Users\\will.ensor\\Documents\\GitHub\\tax-calculator\\taxcalc\\calculate.pyc\u001b[0m in \u001b[0;36mcalc_all\u001b[0;34m(self, zero_out_calc_vars)\u001b[0m\n\u001b[1;32m    213\u001b[0m         \"\"\"\n\u001b[1;32m    214\u001b[0m         \u001b[1;31m# conducts static analysis of Calculator object for current_year\u001b[0m\u001b[1;33m\u001b[0m\u001b[1;33m\u001b[0m\u001b[0m\n\u001b[0;32m--> 215\u001b[0;31m         \u001b[0mself\u001b[0m\u001b[1;33m.\u001b[0m\u001b[0mcalc_one_year\u001b[0m\u001b[1;33m(\u001b[0m\u001b[0mzero_out_calc_vars\u001b[0m\u001b[1;33m)\u001b[0m\u001b[1;33m\u001b[0m\u001b[0m\n\u001b[0m\u001b[1;32m    216\u001b[0m         \u001b[0mBenefitSurtax\u001b[0m\u001b[1;33m(\u001b[0m\u001b[0mself\u001b[0m\u001b[1;33m)\u001b[0m\u001b[1;33m\u001b[0m\u001b[0m\n\u001b[1;32m    217\u001b[0m         \u001b[0mBenefitLimitation\u001b[0m\u001b[1;33m(\u001b[0m\u001b[0mself\u001b[0m\u001b[1;33m)\u001b[0m\u001b[1;33m\u001b[0m\u001b[0m\n",
      "\u001b[0;32mC:\\Users\\will.ensor\\Documents\\GitHub\\tax-calculator\\taxcalc\\calculate.pyc\u001b[0m in \u001b[0;36mcalc_one_year\u001b[0;34m(self, zero_out_calc_vars)\u001b[0m\n\u001b[1;32m    205\u001b[0m         \u001b[0mAdditionalCTC\u001b[0m\u001b[1;33m(\u001b[0m\u001b[0mself\u001b[0m\u001b[1;33m.\u001b[0m\u001b[0mpolicy\u001b[0m\u001b[1;33m,\u001b[0m \u001b[0mself\u001b[0m\u001b[1;33m.\u001b[0m\u001b[0mrecords\u001b[0m\u001b[1;33m)\u001b[0m\u001b[1;33m\u001b[0m\u001b[0m\n\u001b[1;32m    206\u001b[0m         \u001b[0mC1040\u001b[0m\u001b[1;33m(\u001b[0m\u001b[0mself\u001b[0m\u001b[1;33m.\u001b[0m\u001b[0mpolicy\u001b[0m\u001b[1;33m,\u001b[0m \u001b[0mself\u001b[0m\u001b[1;33m.\u001b[0m\u001b[0mrecords\u001b[0m\u001b[1;33m)\u001b[0m\u001b[1;33m\u001b[0m\u001b[0m\n\u001b[0;32m--> 207\u001b[0;31m         \u001b[0mCTC_new\u001b[0m\u001b[1;33m(\u001b[0m\u001b[0mself\u001b[0m\u001b[1;33m.\u001b[0m\u001b[0mpolicy\u001b[0m\u001b[1;33m,\u001b[0m \u001b[0mself\u001b[0m\u001b[1;33m.\u001b[0m\u001b[0mrecords\u001b[0m\u001b[1;33m)\u001b[0m\u001b[1;33m\u001b[0m\u001b[0m\n\u001b[0m\u001b[1;32m    208\u001b[0m         \u001b[0mIITAX\u001b[0m\u001b[1;33m(\u001b[0m\u001b[0mself\u001b[0m\u001b[1;33m.\u001b[0m\u001b[0mpolicy\u001b[0m\u001b[1;33m,\u001b[0m \u001b[0mself\u001b[0m\u001b[1;33m.\u001b[0m\u001b[0mrecords\u001b[0m\u001b[1;33m)\u001b[0m\u001b[1;33m\u001b[0m\u001b[0m\n\u001b[1;32m    209\u001b[0m \u001b[1;33m\u001b[0m\u001b[0m\n",
      "\u001b[0;32mC:\\Users\\will.ensor\\Documents\\GitHub\\tax-calculator\\taxcalc\\decorators.pyc\u001b[0m in \u001b[0;36mwrapper\u001b[0;34m(*args, **kwargs)\u001b[0m\n\u001b[1;32m    306\u001b[0m                  {\"applied_f\": applied_jitted_f}, fakeglobals)\n\u001b[1;32m    307\u001b[0m             \u001b[0mhigh_level_fn\u001b[0m \u001b[1;33m=\u001b[0m \u001b[0mfakeglobals\u001b[0m\u001b[1;33m[\u001b[0m\u001b[1;34m'hl_func'\u001b[0m\u001b[1;33m]\u001b[0m\u001b[1;33m\u001b[0m\u001b[0m\n\u001b[0;32m--> 308\u001b[0;31m             \u001b[0mans\u001b[0m \u001b[1;33m=\u001b[0m \u001b[0mhigh_level_fn\u001b[0m\u001b[1;33m(\u001b[0m\u001b[1;33m*\u001b[0m\u001b[0margs\u001b[0m\u001b[1;33m,\u001b[0m \u001b[1;33m**\u001b[0m\u001b[0mkwargs\u001b[0m\u001b[1;33m)\u001b[0m\u001b[1;33m\u001b[0m\u001b[0m\n\u001b[0m\u001b[1;32m    309\u001b[0m             \u001b[1;32mreturn\u001b[0m \u001b[0mans\u001b[0m\u001b[1;33m\u001b[0m\u001b[0m\n\u001b[1;32m    310\u001b[0m \u001b[1;33m\u001b[0m\u001b[0m\n",
      "\u001b[0;32m<string>\u001b[0m in \u001b[0;36mhl_func\u001b[0;34m(pm, pf)\u001b[0m\n",
      "\u001b[0;32mC:\\Users\\will.ensor\\AppData\\Local\\Continuum\\Anaconda2\\lib\\site-packages\\pandas\\core\\frame.pyc\u001b[0m in \u001b[0;36m__init__\u001b[0;34m(self, data, index, columns, dtype, copy)\u001b[0m\n\u001b[1;32m    283\u001b[0m                                          copy=copy)\n\u001b[1;32m    284\u001b[0m \u001b[1;33m\u001b[0m\u001b[0m\n\u001b[0;32m--> 285\u001b[0;31m         \u001b[1;32melif\u001b[0m \u001b[0misinstance\u001b[0m\u001b[1;33m(\u001b[0m\u001b[0mdata\u001b[0m\u001b[1;33m,\u001b[0m \u001b[1;33m(\u001b[0m\u001b[0mnp\u001b[0m\u001b[1;33m.\u001b[0m\u001b[0mndarray\u001b[0m\u001b[1;33m,\u001b[0m \u001b[0mSeries\u001b[0m\u001b[1;33m,\u001b[0m \u001b[0mIndex\u001b[0m\u001b[1;33m)\u001b[0m\u001b[1;33m)\u001b[0m\u001b[1;33m:\u001b[0m\u001b[1;33m\u001b[0m\u001b[0m\n\u001b[0m\u001b[1;32m    286\u001b[0m             \u001b[1;32mif\u001b[0m \u001b[0mdata\u001b[0m\u001b[1;33m.\u001b[0m\u001b[0mdtype\u001b[0m\u001b[1;33m.\u001b[0m\u001b[0mnames\u001b[0m\u001b[1;33m:\u001b[0m\u001b[1;33m\u001b[0m\u001b[0m\n\u001b[1;32m    287\u001b[0m                 \u001b[0mdata_columns\u001b[0m \u001b[1;33m=\u001b[0m \u001b[0mlist\u001b[0m\u001b[1;33m(\u001b[0m\u001b[0mdata\u001b[0m\u001b[1;33m.\u001b[0m\u001b[0mdtype\u001b[0m\u001b[1;33m.\u001b[0m\u001b[0mnames\u001b[0m\u001b[1;33m)\u001b[0m\u001b[1;33m\u001b[0m\u001b[0m\n",
      "\u001b[0;31mKeyboardInterrupt\u001b[0m: "
     ]
    }
   ],
   "source": [
    "execfile('auto_calc.py')"
   ]
  },
  {
   "cell_type": "code",
   "execution_count": null,
   "metadata": {
    "collapsed": true
   },
   "outputs": [],
   "source": [
    "\"\"\"\n",
    "Document Settings\n",
    "\"\"\"\n",
    "project_name = 'cap_itemized_deductions'\n",
    "paper_title = 'Capping Itemized Deductions'\n",
    "paper_subtitle = 'Powered by Open Source Policy Modeling'\n",
    "paper_author = ' Alex Brill'\n",
    "paper_institute = 'American Enterprise Institute'\n",
    "paper_date = NoEscape(r'\\today')\n",
    "paper_series = 'Tax Brief Series'\n",
    "paper_bio = 'is a research fellow at the American Enterprise Institute (AEI).'"
   ]
  },
  {
   "cell_type": "code",
   "execution_count": null,
   "metadata": {
    "collapsed": true
   },
   "outputs": [],
   "source": [
    "execfile('auto_func.py')"
   ]
  },
  {
   "cell_type": "code",
   "execution_count": null,
   "metadata": {
    "collapsed": true
   },
   "outputs": [],
   "source": [
    "# This string is included under the 'policy' heading\n",
    "policy_string = \"Taxpayers can claim either the standard deduction or itemize their dedcutions, whichever is higher. \\\n",
    "Tax units face deduction limits if their contributions  adjusted gross income \\\n",
    "(AGI) exceeds $311,300 if married filing jointly, \\\n",
    "$285,350 if head of household, $259,400 if single, or $155,650 if married \\\n",
    "filing separately. Deductions must then be limited by \\\n",
    "the smaller of 80 percent of their itemized deductions or 3 percent of the \\\n",
    "amount their AGI exceeds the limit.\"\n",
    "\n",
    "# This string is included under the 'reform options' heading\n",
    "options_string = \"The \\\n",
    "Trump campaign proposed limiting itemized deductions to \\\n",
    "$100,000 for singles and $200,000 for joint filers. Using the open-source \\\n",
    "Tax-Calculator, I present results describing the effects of limiting itemized \\\n",
    "deductions with elasticities of charitable contributions of -0.5, -1.0, and -2.0. \\\n",
    "The costs of these expansions are estimated using a partial \\\n",
    "equalibrium analysis. \"\n",
    "\n",
    "# the following string is included under the 'modeling notes' heading and 'tax-calculator' subheading\n",
    "tax_calculator_string = \"Tax-Calculator is an open source \\\n",
    "microsimulation tax model that computes federal individual income taxes and Federal Insurance \\\n",
    "Contribution Act (FICA) taxes for a sample of tax filing units for years beginning with 2013. \\\n",
    "The model can be used to simulate changes to federal tax policy to conduct revenue scoring, \\\n",
    "distributional impacts, and reform analysis. As an open source model, Tax-Calculator is under \\\n",
    "constant development and improvement. Therefore, the results reported in this paper will change \\\n",
    "as imporvements are made. The model relies on data from the 2009 IRS Public Use File (PUF). \\\n",
    "These results are generated using Tax-Calculator Version 0.8.3.\"\n",
    "\n",
    "# the following string is included under the 'modeling notes' heading and 'modeling assumptions' subheading\n",
    "modeling_assumptions_string = \"The simulation is a partial equalibrium analysis that uses an \\\n",
    "elasticity of taxable income of 0.4. The elasticity of charitable contributions is changed as well \\\n",
    "set equal to either -0.5, -1.0, or -2.0. Caps on charitable contributions are set at $100,000 for individual \\\n",
    "filers and $200,000 for couples.\""
   ]
  },
  {
   "cell_type": "code",
   "execution_count": null,
   "metadata": {
    "collapsed": true
   },
   "outputs": [],
   "source": [
    "# the following bullets are included under the 'comments' section\n",
    "bullet_1 = (\"Under current law, charitable contributions total \"\n",
    "            + currency_fmt(num_charity(calc_cl)) + \" billion.\")\n",
    "\n",
    "bullet_2 = (\"When the contribution cap is imposed, we estimate charitable contributions will fall by \"\n",
    "            + currency_fmt(abs(num_charity(calc_dict['Cap Itemized Deductions']['0.0']) - num_charity(calc_cl)))\n",
    "            + \" billion (assuming a elasticity of charitable contributions equal to 0.0).\")\n",
    "\n",
    "bullet_3 = (\"When the contribution cap is imposed, we estimate charitable contributions will fall by \"\n",
    "            + currency_fmt(abs(num_charity(calc_dict['Cap Itemized Deductions']['-0.5']) - num_charity(calc_cl)))\n",
    "            + \" billion (assuming a elasticity of charitable contributions equal to -0.5).\")\n",
    "\n",
    "bullet_4 = (\"When the contribution cap is imposed, we estimate charitable contributions will fall by \"\n",
    "            + currency_fmt(abs(num_charity(calc_dict['Cap Itemized Deductions']['-1.0']) - num_charity(calc_cl)))\n",
    "            + \" billion (assuming a elasticity of charitable contributions equal to -1.0).\")\n",
    "\n",
    "bullet_5 = (\"When the contribution cap is imposed, we estimate charitable contributions will fall by \"\n",
    "            + currency_fmt(abs(num_charity(calc_dict['Cap Itemized Deductions']['-2.0']) - num_charity(calc_cl)))\n",
    "            + \" billion (assuming a elasticity of charitable contributions equal to -2.0).\")\n",
    "\n",
    "bullets_std = []\n",
    "bullets_nstd = [bullet_1, bullet_2, bullet_3, bullet_4, bullet_5]"
   ]
  },
  {
   "cell_type": "code",
   "execution_count": null,
   "metadata": {
    "collapsed": false
   },
   "outputs": [],
   "source": [
    "# produce document\n",
    "#!    graphs are currently uncommented\n",
    "\n",
    "doc = Document(project_name, geometry_options = {'top': '1.0in', 'bottom': '1.0in'})\n",
    "add_packages(doc)\n",
    "header(doc)\n",
    "policy(doc)\n",
    "options(doc)\n",
    "v2_table(doc)\n",
    "auto_comments(doc)\n",
    "notes(doc)\n",
    "author(doc)\n",
    "logo_footer(doc)\n",
    "# graphs('Effective Marginal Tax Rates', r'1\\textwidth', dpi=300)\n",
    "doc.generate_pdf(project_name + '_W', clean_tex=False)"
   ]
  },
  {
   "cell_type": "code",
   "execution_count": null,
   "metadata": {
    "collapsed": true
   },
   "outputs": [],
   "source": []
  }
 ],
 "metadata": {
  "kernelspec": {
   "display_name": "Python 2",
   "language": "python",
   "name": "python2"
  },
  "language_info": {
   "codemirror_mode": {
    "name": "ipython",
    "version": 2
   },
   "file_extension": ".py",
   "mimetype": "text/x-python",
   "name": "python",
   "nbconvert_exporter": "python",
   "pygments_lexer": "ipython2",
   "version": "2.7.13"
  }
 },
 "nbformat": 4,
 "nbformat_minor": 2
}
