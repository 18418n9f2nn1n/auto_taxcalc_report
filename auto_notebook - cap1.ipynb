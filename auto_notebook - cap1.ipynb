{
 "cells": [
  {
   "cell_type": "code",
   "execution_count": 1,
   "metadata": {
    "collapsed": true
   },
   "outputs": [],
   "source": [
    "\"\"\"\n",
    "Dashboard Settings\n",
    "\"\"\"\n",
    "from taxcalc import *\n",
    "\n",
    "start_year = 2017\n",
    "records_url = 'puf.csv'"
   ]
  },
  {
   "cell_type": "code",
   "execution_count": 2,
   "metadata": {
    "collapsed": true
   },
   "outputs": [],
   "source": [
    "\"\"\"\n",
    "Behavioral Settings\n",
    "\"\"\"\n",
    "tyc_beh = {start_year: {'_BE_inc': [0.0],\n",
    "                        '_BE_sub': [0.4],\n",
    "                        '_BE_cg': [0.0],\n",
    "                        '_BE_charity': [[-0.9999, -0.9999, -0.9999]]}}\n",
    "\n",
    "# The following name will be used as the comparative baseline case in the calculation of formulas and automated notes\n",
    "baseline_behavior_name = 'Baseline'\n",
    "\n",
    "beh_0 = {start_year: {}}\n",
    "beh_1 = {start_year: {'_BE_inc': [0.0],\n",
    "                      '_BE_sub': [0.4],\n",
    "                      '_BE_cg': [0.0],\n",
    "                      '_BE_charity': [[0.0, 0.0, 0.0]]}}\n",
    "beh_2 = {start_year: {'_BE_inc': [0.0],\n",
    "                      '_BE_sub': [0.4],\n",
    "                      '_BE_cg': [0.0],\n",
    "                      '_BE_charity': [[-0.5, -0.5, -0.5]]}}\n",
    "beh_3 = {start_year: {'_BE_inc': [0.0],\n",
    "                      '_BE_sub': [0.4],\n",
    "                      '_BE_cg': [0.0],\n",
    "                      '_BE_charity': [[-0.9999, -0.9999, -0.9999]]}}\n",
    "beh_4 = {start_year: {'_BE_inc': [0.0],\n",
    "                      '_BE_sub': [0.4],\n",
    "                      '_BE_cg': [0.0],\n",
    "                      '_BE_charity': [[-2.0, -2.0, -2.0]]}}\n",
    "beh_dict = OrderedDict([('0.0', beh_1),\n",
    "                        ('-0.5', beh_2),\n",
    "                        ('-1.0', beh_3),\n",
    "                        ('-2.0', beh_4)])"
   ]
  },
  {
   "cell_type": "code",
   "execution_count": 3,
   "metadata": {
    "collapsed": true
   },
   "outputs": [],
   "source": [
    "\"\"\"\n",
    "Policy Settings\n",
    "\"\"\"\n",
    "current_law = {start_year: {}}\n",
    "\n",
    "ref_1 = {start_year: {'_ID_c': [[100000, 200000, 100000, 100000, 100000]]}}\n",
    "\n",
    "ref_dict = OrderedDict([(\"Cap Itemized Deductions\", ref_1)])"
   ]
  },
  {
   "cell_type": "code",
   "execution_count": null,
   "metadata": {
    "collapsed": true
   },
   "outputs": [],
   "source": [
    "\"\"\"\n",
    "The first item in 'column_list' should either be 'Reform',\n",
    "if the table is to be indexed by policy reforms, or 'behavior',\n",
    "if the table is to be indexed by behavioral assumptions\n",
    "\"\"\"\n",
    "\n",
    "column_list = ['Behavior',\n",
    "               'Taxpayers Receiving Tax Hike (millions)',\n",
    "               'Itemizers (millions)',\n",
    "               'Wght. Ave. MTR on Charitable Contributions',\n",
    "               'Total Charitable Contributions (billions)',\n",
    "               '10-Year Revenue Change, Dynamic (billions)']"
   ]
  },
  {
   "cell_type": "code",
   "execution_count": 4,
   "metadata": {
    "collapsed": false
   },
   "outputs": [
    {
     "name": "stdout",
     "output_type": "stream",
     "text": [
      "You loaded data for 2009.\n",
      "Tax-Calculator startup automatically extrapolated your data to 2013.\n",
      "Done\n",
      "You loaded data for 2009.\n",
      "Tax-Calculator startup automatically extrapolated your data to 2013.\n",
      "You loaded data for 2009.\n",
      "Tax-Calculator startup automatically extrapolated your data to 2013.\n",
      "Done\n",
      "304.818158758\n",
      "305.538210086\n",
      "309.355518462\n",
      "318.681625551\n",
      "Done\n",
      "336.995480321\n",
      "337.597945531\n",
      "335.992913892\n",
      "340.868818577\n",
      "Done\n"
     ]
    }
   ],
   "source": [
    "execfile('auto_calc.py')"
   ]
  },
  {
   "cell_type": "code",
   "execution_count": 5,
   "metadata": {
    "collapsed": true
   },
   "outputs": [],
   "source": [
    "\"\"\"\n",
    "Document Settings\n",
    "\"\"\"\n",
    "project_name = 'cap_itemized_deductions'\n",
    "paper_title = 'Effect of an Itemized Deduction Cap on Charitable Giving: Sensitivity to Behavioral Response'\n",
    "paper_subtitle = 'Powered by Open Source Policy Modeling'\n",
    "paper_author = ' Alex Brill'\n",
    "paper_institute = 'American Enterprise Institute'\n",
    "paper_date = NoEscape(r'\\today')\n",
    "paper_series = 'Tax Brief Series'\n",
    "paper_bio = 'is a research fellow at the American Enterprise Institute (AEI).'"
   ]
  },
  {
   "cell_type": "code",
   "execution_count": 6,
   "metadata": {
    "collapsed": true
   },
   "outputs": [],
   "source": [
    "execfile('auto_func.py')"
   ]
  },
  {
   "cell_type": "code",
   "execution_count": null,
   "metadata": {
    "collapsed": true
   },
   "outputs": [],
   "source": [
    "# This string is included under the 'policy' heading\n",
    "policy_string = \"Taxpayers can take the standard deduction or itemize. \\\n",
    "Tax units face deduction limits if their contributions  adjusted gross income \\\n",
    "(AGI) exceeds $311,300 if married filing jointly, \\\n",
    "$285,350 if head of household, $259,400 if single, or $155,650 if married \\\n",
    "filing separately. Deductions must then be limited by \\\n",
    "the smaller of 80 percent of their itemized deductions and 3 percent of the \\\n",
    "amount their AGI exceeds the limit.\"\n",
    "\n",
    "# This string is included under the 'reform options' heading\n",
    "options_string = \"To offset proposed cuts to the top marginal tax rate, the \\\n",
    "Trump administration has proposed limiting itemized deductions to \\\n",
    "$100,000 for singles and $200,000 for joint filers. Using the open-source \\\n",
    "Tax-Calculator, I present results describing the effects of limiting itemized \\\n",
    "deductions with elasticities of charitable contributions of -0.5, -1.0, and -2.0. \\\n",
    "The costs of these expansions are estimated using a partial \\\n",
    "equalibrium analysis. \"\n",
    "\n",
    "# the following string is included under the 'modeling notes' heading and 'tax-calculator' subheading\n",
    "tax_calculator_string = \"Tax-Calculator is an open source \\\n",
    "microsimulation tax model that computes federal individual income taxes and Federal Insurance \\\n",
    "Contribution Act (FICA) taxes for a sample of tax filing units for years beginning with 2013. \\\n",
    "The model can be used to simulate changes to federal tax policy to conduct revenue scoring, \\\n",
    "distributional impacts, and reform analysis. As an open source model, Tax-Calculator is under \\\n",
    "constant development and improvement. Therefore, the results reported in this paper will change \\\n",
    "as imporvements are made. The model relies on data from the 2009 IRS Public Use File (PUF). \\\n",
    "These results are generated using Tax-Calculator Version 0.8.3.\"\n",
    "\n",
    "# the following string is included under the 'modeling notes' heading and 'modeling assumptions' subheading\n",
    "modeling_assumptions_string = \"The simulation is a partial equalibrium analysis that uses an \\\n",
    "elasticity of taxable income of 0.4. The elasticity of charitable contributions is changed as well \\\n",
    "set equal to either -0.5, -1.0, or -2.0. Caps on charitable contributions are set at $100,000 for individual \\\n",
    "filers and $200,000 for couples.\""
   ]
  },
  {
   "cell_type": "code",
   "execution_count": 7,
   "metadata": {
    "collapsed": true
   },
   "outputs": [],
   "source": [
    "# the following bullets are included under the 'comments' section\n",
    "bullet_1 = (\"Under current law, charitable contributions total \"\n",
    "            + currency_fmt(num_charity(calc_cl)) + \" billion.\")\n",
    "\n",
    "bullet_2 = (\"When the contribution cap is imposed, we estimate charitable contributions will fall by \"\n",
    "            + currency_fmt(abs(num_charity(calc_dict['Cap Itemized Deductions']['0.0']) - num_charity(calc_cl)))\n",
    "            + \" billion (assuming a elasticity of charitable contributions equal to 0.0).\")\n",
    "\n",
    "bullet_3 = (\"When the contribution cap is imposed, we estimate charitable contributions will fall by \"\n",
    "            + currency_fmt(abs(num_charity(calc_dict['Cap Itemized Deductions']['-0.5']) - num_charity(calc_cl)))\n",
    "            + \" billion (assuming a elasticity of charitable contributions equal to -0.5).\")\n",
    "\n",
    "bullet_4 = (\"When the contribution cap is imposed, we estimate charitable contributions will fall by \"\n",
    "            + currency_fmt(abs(num_charity(calc_dict['Cap Itemized Deductions']['-1.0']) - num_charity(calc_cl)))\n",
    "            + \" billion (assuming a elasticity of charitable contributions equal to -1.0).\")\n",
    "\n",
    "bullet_5 = (\"When the contribution cap is imposed, we estimate charitable contributions will fall by \"\n",
    "            + currency_fmt(abs(num_charity(calc_dict['Cap Itemized Deductions']['-2.0']) - num_charity(calc_cl)))\n",
    "            + \" billion (assuming a elasticity of charitable contributions equal to -2.0).\")\n",
    "\n",
    "bullets_std = []\n",
    "bullets_nstd = [bullet_1, bullet_2, bullet_3, bullet_4, bullet_5]"
   ]
  },
  {
   "cell_type": "code",
   "execution_count": 8,
   "metadata": {
    "collapsed": false
   },
   "outputs": [],
   "source": [
    "# produce document\n",
    "#!    graphs are currently uncommented\n",
    "\n",
    "doc = Document(project_name, geometry_options = {'top': '1.0in', 'bottom': '1.0in'})\n",
    "add_packages(doc)\n",
    "header(doc)\n",
    "policy(doc)\n",
    "options(doc)\n",
    "v2_table(doc)\n",
    "auto_comments(doc)\n",
    "notes(doc)\n",
    "author(doc)\n",
    "logo_footer(doc)\n",
    "# graphs('Effective Marginal Tax Rates', r'1\\textwidth', dpi=300)\n",
    "doc.generate_pdf(project_name + '_W', clean_tex=False)"
   ]
  },
  {
   "cell_type": "code",
   "execution_count": null,
   "metadata": {
    "collapsed": true
   },
   "outputs": [],
   "source": []
  }
 ],
 "metadata": {
  "kernelspec": {
   "display_name": "Python 2",
   "language": "python",
   "name": "python2"
  },
  "language_info": {
   "codemirror_mode": {
    "name": "ipython",
    "version": 2
   },
   "file_extension": ".py",
   "mimetype": "text/x-python",
   "name": "python",
   "nbconvert_exporter": "python",
   "pygments_lexer": "ipython2",
   "version": "2.7.13"
  }
 },
 "nbformat": 4,
 "nbformat_minor": 2
}
