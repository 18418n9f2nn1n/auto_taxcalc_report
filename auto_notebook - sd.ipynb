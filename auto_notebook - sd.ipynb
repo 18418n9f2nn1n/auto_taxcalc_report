{
 "cells": [
  {
   "cell_type": "code",
   "execution_count": 11,
   "metadata": {
    "collapsed": true
   },
   "outputs": [],
   "source": [
    "\"\"\"\n",
    "Dashboard Settings\n",
    "\"\"\"\n",
    "from taxcalc import *\n",
    "from collections import OrderedDict\n",
    "\n",
    "start_year = 2017\n",
    "records_url = 'puf.csv'"
   ]
  },
  {
   "cell_type": "code",
   "execution_count": 12,
   "metadata": {
    "collapsed": false
   },
   "outputs": [],
   "source": [
    "\"\"\"\n",
    "Behavioral Settings\n",
    "\"\"\"\n",
    "tyc_beh = {start_year: {'_BE_inc': [0.0],\n",
    "                        '_BE_sub': [0.4],\n",
    "                        '_BE_cg': [0.0]}}\n",
    "\n",
    "# behavioral settings\n",
    "beh_0 = {start_year: {'_BE_inc': [0.0],\n",
    "                      '_BE_sub': [0.4],\n",
    "                      '_BE_cg': [0.0]}}\n",
    "\n",
    "beh_1 = {start_year: {'_BE_inc': [0.0],\n",
    "                      '_BE_sub': [0.4],\n",
    "                      '_BE_cg': [0.0]}}\n",
    "\n",
    "# behavior dict with static baseline\n",
    "# beh_dict = OrderedDict([(base_beh, beh_0), ('Dynamic', beh_1)])\n",
    "\n",
    "# behavior dict w/o static baseline\n",
    "beh_dict = OrderedDict([('Dynamic', beh_1)])"
   ]
  },
  {
   "cell_type": "code",
   "execution_count": 13,
   "metadata": {
    "collapsed": false
   },
   "outputs": [],
   "source": [
    "\"\"\"\n",
    "Policy Settings\n",
    "\"\"\"\n",
    "\n",
    "base_law = 'Current Law'\n",
    "\n",
    "current_law = {start_year: {}}\n",
    "\n",
    "reform125 = {start_year: {'_STD': [[6350 * 1.25, 12700 * 1.25, 6350 * 1.25, 9350 * 1.25, 12700 * 1.25]]}}\n",
    "reform150 = {start_year: {'_STD': [[6350 * 1.5, 12700 * 1.5, 6350 * 1.5, 9350 * 1.5, 12700 * 1.5]]}}\n",
    "reform200 = {start_year: {'_STD': [[6350 * 2, 12700 * 2, 6350 * 2, 9350 * 2, 12700 * 2]]}}\n",
    "reform300 = {start_year: {'_STD': [[6350 * 3, 12700 * 3, 6350 * 3, 9350 * 3, 12700 * 3]]}}\n",
    "\n",
    "# list all reforms in the ref_dict\n",
    "ref_dict = OrderedDict([(base_law, current_law), \n",
    "                        (\"25 percent increase\", reform125), \n",
    "                        (\"50 percent increase\", reform150), \n",
    "                        (\"100 percent increase\", reform200), \n",
    "                        (\"200 percent increase\", reform300)])"
   ]
  },
  {
   "cell_type": "code",
   "execution_count": 14,
   "metadata": {
    "collapsed": true
   },
   "outputs": [],
   "source": [
    "\"\"\"\n",
    "The first item in 'column_list' should either be 'Reform',\n",
    "if the table is to be indexed by policy reforms, or 'behavior',\n",
    "if the table is to be indexed by behavioral assumptions\n",
    "\"\"\"\n",
    "column_label = 'Current Law'\n",
    "column_list = ['Reform',\n",
    "               'Taxpayers Receiving Tax Cut (millions)',\n",
    "               'Itemizers (millions)',\n",
    "               'Taxpayers Facing Lower Marginal Tax Rate (millions)',\n",
    "               'Taxpayers Paying Zero or Less Income Tax (millions)',\n",
    "               '10-Year Revenue Change, Static (billions)']"
   ]
  },
  {
   "cell_type": "code",
   "execution_count": 15,
   "metadata": {
    "collapsed": false
   },
   "outputs": [
    {
     "name": "stdout",
     "output_type": "stream",
     "text": [
      "You loaded data for 2009.\n",
      "Tax-Calculator startup automatically extrapolated your data to 2013.\n",
      "Done\n",
      "You loaded data for 2009.\n",
      "Tax-Calculator startup automatically extrapolated your data to 2013.\n",
      "You loaded data for 2009.\n",
      "Tax-Calculator startup automatically extrapolated your data to 2013.\n",
      "Done\n",
      "You loaded data for 2009.\n",
      "Tax-Calculator startup automatically extrapolated your data to 2013.\n",
      "You loaded data for 2009.\n",
      "Tax-Calculator startup automatically extrapolated your data to 2013.\n",
      "Done\n",
      "You loaded data for 2009.\n",
      "Tax-Calculator startup automatically extrapolated your data to 2013.\n",
      "You loaded data for 2009.\n",
      "Tax-Calculator startup automatically extrapolated your data to 2013.\n",
      "Done\n",
      "You loaded data for 2009.\n",
      "Tax-Calculator startup automatically extrapolated your data to 2013.\n",
      "You loaded data for 2009.\n",
      "Tax-Calculator startup automatically extrapolated your data to 2013.\n",
      "Done\n",
      "You loaded data for 2009.\n",
      "Tax-Calculator startup automatically extrapolated your data to 2013.\n",
      "You loaded data for 2009.\n",
      "Tax-Calculator startup automatically extrapolated your data to 2013.\n",
      "Done\n",
      "0.0\n",
      "-249.273679633\n",
      "-503.372582115\n",
      "-1051.67333938\n",
      "-2152.76576557\n",
      "Done\n",
      "0.0\n",
      "-240.744831115\n",
      "-476.041863371\n",
      "-974.72364306\n",
      "-2026.05274257\n",
      "Done\n"
     ]
    }
   ],
   "source": [
    "execfile('auto_calc.py')"
   ]
  },
  {
   "cell_type": "code",
   "execution_count": 16,
   "metadata": {
    "collapsed": true
   },
   "outputs": [],
   "source": [
    "\"\"\"\n",
    "Document Settings\n",
    "\"\"\"\n",
    "project_name = 'standard_deduction'\n",
    "paper_title = 'Increasing the Standard Deduction'\n",
    "paper_subtitle = 'Powered by Open Source Policy Modeling'\n",
    "paper_author = ' Alex Brill'\n",
    "paper_institute = 'American Enterprise Institute'\n",
    "paper_date = NoEscape(r'\\today')\n",
    "paper_series = 'Tax Brief Series'\n",
    "paper_bio = 'is a research fellow at the American Enterprise Institute (AEI).'"
   ]
  },
  {
   "cell_type": "code",
   "execution_count": 17,
   "metadata": {
    "collapsed": false
   },
   "outputs": [],
   "source": [
    "execfile('auto_func.py')"
   ]
  },
  {
   "cell_type": "code",
   "execution_count": 18,
   "metadata": {
    "collapsed": false
   },
   "outputs": [],
   "source": [
    "# This string is included under the 'policy' heading\n",
    "policy_string = \"Under current law, taxpayers can claim the standard deduction as an \\\n",
    "alternative to itemizing one's deductions. In 2017, the standard deduction will be $6,350 \\\n",
    "for single filers, $9,350 for head of household filers, and $12,700 for married \\\n",
    "couples filing jointly.\"\n",
    "\n",
    "# This string is included under the 'reform options' heading\n",
    "options_string = \"Both the House GOP and President Trump have proposed increasing the standard deduction. \\\n",
    "Using the open source Tax-Calculator, I present results describing the effects if increasing the \\\n",
    "standard deduction by 25%, 50%, 100%, or 200%.\"\n",
    "\n",
    "# the following string is included under the 'modeling notes' heading and 'tax-calculator' subheading\n",
    "tax_calculator_string = \"Tax-Calculator is an open source \\\n",
    "microsimulation tax model that computes federal individual income taxes and Federal Insurance \\\n",
    "Contribution Act (FICA) taxes for a sample of tax filing units for years beginning with 2013. \\\n",
    "The model can be used to simulate changes to federal tax policy to conduct revenue scoring, \\\n",
    "distributional impacts, and reform analysis. As an open source model, Tax-Calculator is under \\\n",
    "constant development and improvement. Therefore, the results reported in this paper will change \\\n",
    "as imporvements are made. The model relies on data from the 2009 IRS Public Use File (PUF).\"\n",
    "\n",
    "# the following string is included under the 'modeling notes' heading and 'modeling assumptions' subheading\n",
    "modeling_assumptions_string = 'The simulation is a partial equalibrium analysis that uses an \\\n",
    "elasticity of taxable income of 0.4. The baseline is adjusted by multiplying the standard deduction for each \\\n",
    "filing type by factors of 25 percent, 50 percent, 100 percent, and 200 percent.'"
   ]
  },
  {
   "cell_type": "code",
   "execution_count": 19,
   "metadata": {
    "collapsed": true
   },
   "outputs": [],
   "source": [
    "# the following bullets are included under the 'comments' section\n",
    "bullet_1 = (\"Under current law, \"\n",
    "            + str('{:.1f} million'.format(num_std(calc_cl)/(10.0**6)))\n",
    "            + \" taxpayers are expected to claim the standard deduction, and \"\n",
    "            + str('{:.1f} million'.format(num_ided(calc_cl)/(10.0**6)))\n",
    "            + \" are expected to itemize their deductions in 2017.\")\n",
    "\n",
    "bullet_2 = (\"The policy is base-narrowing, increasing the number of people paying no income tax by \" \n",
    "            + str('{:.0f} percent'.format(100 * ((no_inc_tax(calc_dict['200 percent increase']['Dynamic']) - no_inc_tax(calc_cl)) / no_inc_tax(calc_cl)))) \n",
    "            + \" when the standard deduction is raised by 200 percent.\")\n",
    "\n",
    "bullet_3 = (\"When the standard deduction is increased by 200 percent, \" \n",
    "+ str('{:,.1f} million'.format(num_taxcut(calc_cl, calc_dict['200 percent increase']['Dynamic']) / 10.0**6))\n",
    "+ \" people receive tax cuts.\")\n",
    "\n",
    "bullet_4 = (str('{:,.1f} million'.format(lwrMTR_wages(calc_cl, calc_dict['200 percent increase']['Dynamic']) / 10.0**6)) \n",
    "            + \" people face lower marginal tax rates.\")\n",
    "\n",
    "bullet_5 = (str('{:,.1f} million'.format(hgrMTR_wages(calc_cl, calc_dict['200 percent increase']['Dynamic']) / 10.0**6)) \n",
    "            + \" people face higher marginal tax rates.\")\n",
    "\n",
    "bullets_std = []\n",
    "bullets_nstd = [bullet_1, bullet_2, bullet_3, bullet_4, bullet_5]"
   ]
  },
  {
   "cell_type": "code",
   "execution_count": 20,
   "metadata": {
    "collapsed": false
   },
   "outputs": [],
   "source": [
    "# produce document\n",
    "#!    graphs are currently uncommented\n",
    "\n",
    "doc = Document(project_name, geometry_options = {'top': '1.0in', 'bottom': '1.0in'})\n",
    "add_packages(doc)\n",
    "header(doc)\n",
    "policy(doc)\n",
    "options(doc)\n",
    "v2_table(doc)\n",
    "auto_comments(doc)\n",
    "notes(doc)\n",
    "author(doc)\n",
    "logo_footer(doc)\n",
    "# graphs('Effective Marginal Tax Rates', r'1\\textwidth', dpi=300)\n",
    "doc.generate_pdf(project_name + '_W', clean_tex=False)"
   ]
  },
  {
   "cell_type": "code",
   "execution_count": null,
   "metadata": {
    "collapsed": true
   },
   "outputs": [],
   "source": []
  }
 ],
 "metadata": {
  "kernelspec": {
   "display_name": "Python 2",
   "language": "python",
   "name": "python2"
  },
  "language_info": {
   "codemirror_mode": {
    "name": "ipython",
    "version": 2
   },
   "file_extension": ".py",
   "mimetype": "text/x-python",
   "name": "python",
   "nbconvert_exporter": "python",
   "pygments_lexer": "ipython2",
   "version": "2.7.13"
  }
 },
 "nbformat": 4,
 "nbformat_minor": 2
}
