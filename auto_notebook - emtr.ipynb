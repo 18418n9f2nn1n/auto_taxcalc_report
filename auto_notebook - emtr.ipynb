{
 "cells": [
  {
   "cell_type": "code",
   "execution_count": 1,
   "metadata": {
    "collapsed": false
   },
   "outputs": [],
   "source": [
    "\"\"\"\n",
    "Dashboard Settings\n",
    "\"\"\"\n",
    "from taxcalc import *\n",
    "\n",
    "start_year = 2017\n",
    "records_url = 'puf.csv'"
   ]
  },
  {
   "cell_type": "code",
   "execution_count": 2,
   "metadata": {
    "collapsed": false
   },
   "outputs": [],
   "source": [
    "\"\"\"\n",
    "Behavioral Settings\n",
    "\"\"\"\n",
    "tyc_beh = {start_year: {'_BE_inc': [0.0], '_BE_sub': [0.4], '_BE_cg': [-3.487]}}\n",
    "\n",
    "# The following name will be used as the comparative baseline case in the calculation of formulas and automated notes\n",
    "baseline_behavior_name = 'Baseline'\n",
    "\n",
    "\n",
    "beh_0 = {start_year: {'_BE_inc': [0.0], '_BE_sub': [0.4], '_BE_cg': [-3.487]}}\n",
    "\n",
    "beh_dict = OrderedDict([(baseline_behavior_name, beh_0)])"
   ]
  },
  {
   "cell_type": "code",
   "execution_count": null,
   "metadata": {
    "collapsed": false
   },
   "outputs": [],
   "source": [
    "\"\"\"\n",
    "Policy Settings\n",
    "\"\"\"\n",
    "ref0_name = 'Current Law'\n",
    "ref0_dict = {}\n",
    "\n",
    "ref1_name = 'Repealing the NIIT'\n",
    "ref1_dict = {start_year: {'_NIIT_rt': [0.0]}}\n",
    "\n",
    "ref2_name = 'Doubling the NIIT'\n",
    "ref2_dict = {start_year: {'_NIIT_rt': [0.076]}}\n",
    "\n",
    "ref_dict = OrderedDict([(ref0_name, ref0_dict), (ref1_name, ref1_dict), (ref2_name, ref2_dict)])"
   ]
  },
  {
   "cell_type": "code",
   "execution_count": null,
   "metadata": {
    "collapsed": false
   },
   "outputs": [
    {
     "name": "stdout",
     "output_type": "stream",
     "text": [
      "You loaded data for 2009.\n",
      "Tax-Calculator startup automatically extrapolated your data to 2013.\n",
      "Done\n",
      "You loaded data for 2009.\n",
      "Tax-Calculator startup automatically extrapolated your data to 2013.\n",
      "You loaded data for 2009.\n",
      "Tax-Calculator startup automatically extrapolated your data to 2013.\n",
      "Done\n",
      "You loaded data for 2009.\n",
      "Tax-Calculator startup automatically extrapolated your data to 2013.\n",
      "You loaded data for 2009.\n",
      "Tax-Calculator startup automatically extrapolated your data to 2013.\n",
      "Done\n",
      "You loaded data for 2009.\n",
      "Tax-Calculator startup automatically extrapolated your data to 2013.\n",
      "You loaded data for 2009.\n",
      "Tax-Calculator startup automatically extrapolated your data to 2013.\n",
      "Done\n"
     ]
    }
   ],
   "source": [
    "execfile('auto_calc.py')"
   ]
  },
  {
   "cell_type": "code",
   "execution_count": null,
   "metadata": {
    "collapsed": true
   },
   "outputs": [],
   "source": [
    "\"\"\"\n",
    "Document Settings\n",
    "\"\"\"\n",
    "project_name = 'wmtr1'\n",
    "paper_title_general = 'Marginal Tax Rate Report'\n",
    "paper_title_specific = 'The Net Investment Income Tax'\n",
    "paper_title = paper_title_general + ': \\\\' + paper_title_specific\n",
    "paper_subtitle = 'Powered by Open Source Policy Modeling'\n",
    "paper_author = 'Cody Kallen'\n",
    "paper_institute = 'American Enterprise Institute'\n",
    "paper_date = NoEscape(r'\\today')\n",
    "paper_series = 'AEI Tax Brief Series'\n",
    "paper_bio = 'is a research assistant at the American Enterprise Institute (AEI).'"
   ]
  },
  {
   "cell_type": "code",
   "execution_count": null,
   "metadata": {
    "collapsed": true
   },
   "outputs": [],
   "source": [
    "execfile('auto_func.py')"
   ]
  },
  {
   "cell_type": "code",
   "execution_count": null,
   "metadata": {
    "collapsed": false
   },
   "outputs": [],
   "source": [
    "# This string is included under the 'policy' heading\n",
    "mtr_string = \"For an individual, the effective marginal tax rate (EMTR) is the percentage of tax owed on an \\\n",
    "additional amount of income. This measure includes the statutory rates as well as the phase-ins and phase-outs \\\n",
    "of tax deductions and credits. For individuals, the EMTR is a good measure of the tax system's disincentive to \\\n",
    "earn additional income. When we take a weighted average of the marginal tax rates for all taxpayers, we get a \\\n",
    "measure of the aggregate disincentive. For the EMTR on wage and salary income, this is a measure of the aggregate \\\n",
    "disincentive to work more or harder. For the EMTRs on investment income, this measures the aggregate disincentive \\\n",
    "to save and invest. \"\n",
    "reform_string = \"The Net Investment Income Tax (NIIT) is a 3.8 percent surtax on interest, dividends, \\\n",
    "capital gains, rent and royalty income, certain annuities, and income from businesses that trade financial instruments \\\n",
    "or are passive business entities, in excess of $250,000 for married couples and $200,000 for unmarried filers. \\\n",
    "It was enacted as part of the Affordable Care Act in 2010. The proposed American Health Care Act would repeal the NIIT.\"\n",
    "policy_string = mtr_string + \"\\n \\n\" + reform_string\n",
    "\n",
    "# This string is included under the 'reform options' heading\n",
    "options_string = \"Using the open-source B-Tax model, I present the results of \\\n",
    "eliminating bonus depreciation. \\\n",
    "For details on the implementation and calculation of the EMTRs, see the Modeling Notes section. \"\n",
    "\n",
    "# the following string is included under the 'modeling notes' heading and 'tax-calculator' subheading\n",
    "tax_calculator_string = \"Tax-Calculator is an open source \\\n",
    "microsimulation tax model that computes federal individual income taxes and Federal Insurance \\\n",
    "Contribution Act (FICA) taxes for a sample of tax filing units for years beginning with 2013. \\\n",
    "The model can be used to simulate changes to federal tax policy to conduct revenue scoring, \\\n",
    "distributional impacts, and reform analysis. As an open source model, Tax-Calculator is under \\\n",
    "constant development and improvement. Therefore, the results reported in this paper will change \\\n",
    "as improvements are made. The model relies on data from the 2009 IRS Public Use File (PUF). \\\n",
    "These results are generated using Tax-Calculator Version 0.8.3.\"\n",
    "\n",
    "# the following string is included under the 'modeling notes' heading and 'modeling assumptions' subheading\n",
    "modeling_assumptions_string = \"In Table 1, interest is specifically taxable interest and excludes interest from \\\n",
    "state and municipal bonds. Marginal tax rates on each filing unit are estimated by adding $0.01 to the \\\n",
    "relevant income type. The aggregates MTRs for wage/salary income, interest, and dividends are the weighted average \\\n",
    "of all the individual MTRs, weighting by the relevant income type. The aggregate MTRs for long-term and short-term \\\n",
    "capital gains are weighted by taxable gains, which includes the effect of the loss limitations and capital gain \\\n",
    "distributions not reported on Schedule D. \"\n",
    "\n",
    "bullets_nstd = []"
   ]
  },
  {
   "cell_type": "code",
   "execution_count": null,
   "metadata": {
    "collapsed": false
   },
   "outputs": [],
   "source": [
    "# produce document\n",
    "#!    graphs are currently uncommented\n",
    "\n",
    "doc = Document(project_name, geometry_options = {'top': '1.0in', 'bottom': '1.0in'})\n",
    "add_packages(doc)\n",
    "header(doc)\n",
    "policy(doc)  \n",
    "options(doc)\n",
    "h_table(doc)\n",
    "auto_bullets(doc, ref_dict=ref_dict)\n",
    "auto_comments(doc)\n",
    "notes(doc)\n",
    "author(doc)\n",
    "logo_footer(doc)\n",
    "# graphs('Effective Marginal Tax Rates', r'1\\textwidth', dpi=300)\n",
    "doc.generate_pdf(project_name + '_W', clean_tex=False)"
   ]
  }
 ],
 "metadata": {
  "kernelspec": {
   "display_name": "Python 2",
   "language": "python",
   "name": "python2"
  },
  "language_info": {
   "codemirror_mode": {
    "name": "ipython",
    "version": 2
   },
   "file_extension": ".py",
   "mimetype": "text/x-python",
   "name": "python",
   "nbconvert_exporter": "python",
   "pygments_lexer": "ipython2",
   "version": "2.7.13"
  }
 },
 "nbformat": 4,
 "nbformat_minor": 2
}
