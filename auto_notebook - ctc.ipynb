{
 "cells": [
  {
   "cell_type": "code",
   "execution_count": 1,
   "metadata": {
    "collapsed": true
   },
   "outputs": [],
   "source": [
    "\"\"\"\n",
    "Dashboard Settings\n",
    "\"\"\"\n",
    "from taxcalc import *\n",
    "\n",
    "start_year = 2017\n",
    "records_url = 'puf.csv'"
   ]
  },
  {
   "cell_type": "code",
   "execution_count": 2,
   "metadata": {
    "collapsed": true
   },
   "outputs": [],
   "source": [
    "\"\"\"\n",
    "Behavioral Settings\n",
    "\"\"\"\n",
    "tyc_beh = {start_year: {'_BE_inc': [0.0],\n",
    "                        '_BE_sub': [0.4],\n",
    "                        '_BE_cg': [0.0],\n",
    "                        '_BE_charity': [[-0.9999, -0.9999, -0.9999]]}}\n",
    "\n",
    "# The following name will be used as the comparative baseline case in the calculation of formulas and automated notes\n",
    "baseline_behavior_name = 'Baseline'\n",
    "\n",
    "beh_0 = {start_year: {'_BE_inc': [0.0],\n",
    "                      '_BE_sub': [0.4],\n",
    "                      '_BE_cg': [0.0]}}\n",
    "beh_1 = {start_year: {'_BE_inc': [0.0],\n",
    "                      '_BE_sub': [0.4],\n",
    "                      '_BE_cg': [0.0]}}\n",
    "\n",
    "# behavior dict with static baseline\n",
    "# beh_dict = OrderedDict([(base_beh, beh_0), ('Dynamic', beh_1)])\n",
    "\n",
    "# behavior dict w/o static baseline\n",
    "beh_dict = OrderedDict([('Dynamic', beh_1)])"
   ]
  },
  {
   "cell_type": "code",
   "execution_count": 3,
   "metadata": {
    "collapsed": false
   },
   "outputs": [],
   "source": [
    "\"\"\"\n",
    "Policy Settings\n",
    "\"\"\"\n",
    "\n",
    "base_law = 'Current Law'\n",
    "\n",
    "current_law = {start_year: {}}\n",
    "\n",
    "ref_1 = {start_year: {'_CTC_c': [1000 + 500]}}\n",
    "\n",
    "ref_2 = {start_year: {'_CTC_c': [1000 - 500]}}\n",
    "\n",
    "ref_3 = {start_year: {'_CTC_c': [0]}}\n",
    "\n",
    "ref_dict = OrderedDict([(base_law, current_law), \n",
    "                        ('Increase CTC by $500', ref_1),\n",
    "                        ('Decrease CTC by $500', ref_2),\n",
    "                        ('Eliminate CTC', ref_3)])"
   ]
  },
  {
   "cell_type": "code",
   "execution_count": 4,
   "metadata": {
    "collapsed": false
   },
   "outputs": [
    {
     "name": "stdout",
     "output_type": "stream",
     "text": [
      "You loaded data for 2009.\n",
      "Tax-Calculator startup automatically extrapolated your data to 2013.\n",
      "Done\n",
      "You loaded data for 2009.\n",
      "Tax-Calculator startup automatically extrapolated your data to 2013.\n",
      "You loaded data for 2009.\n",
      "Tax-Calculator startup automatically extrapolated your data to 2013.\n",
      "Done\n",
      "You loaded data for 2009.\n",
      "Tax-Calculator startup automatically extrapolated your data to 2013.\n",
      "You loaded data for 2009.\n",
      "Tax-Calculator startup automatically extrapolated your data to 2013.\n",
      "Done\n",
      "You loaded data for 2009.\n",
      "Tax-Calculator startup automatically extrapolated your data to 2013.\n",
      "You loaded data for 2009.\n",
      "Tax-Calculator startup automatically extrapolated your data to 2013.\n",
      "Done\n",
      "You loaded data for 2009.\n",
      "Tax-Calculator startup automatically extrapolated your data to 2013.\n",
      "You loaded data for 2009.\n",
      "Tax-Calculator startup automatically extrapolated your data to 2013.\n",
      "Done\n",
      "0.0\n",
      "-242.201518659\n",
      "260.308973125\n",
      "519.640267322\n",
      "Done\n",
      "0.0\n",
      "-257.440903568\n",
      "283.580861124\n",
      "561.701548537\n",
      "Done\n"
     ]
    }
   ],
   "source": [
    "\"\"\"\n",
    "The first item in 'column_list' should either be 'Reform',\n",
    "if the table is to be indexed by policy reforms, or 'behavior',\n",
    "if the table is to be indexed by behavioral assumptions\n",
    "\"\"\"\n",
    "\n",
    "column_list = ['Reform',\n",
    "               'Taxpayers Receiving CTC (millions)',\n",
    "               'Taxpayers Receiving Tax Cut (millions)',\n",
    "               'Taxpayers Receiving Tax Hike (millions)',\n",
    "               'Taxpayers Paying Zero or Less Income Tax (millions)',\n",
    "               '10-Year Revenue Change, Dynamic (billions)']\n",
    "\n",
    "execfile('auto_calc.py')"
   ]
  },
  {
   "cell_type": "code",
   "execution_count": 5,
   "metadata": {
    "collapsed": true
   },
   "outputs": [],
   "source": [
    "\"\"\"\n",
    "Document Settings\n",
    "\"\"\"\n",
    "project_name = 'child_tax_credit'\n",
    "paper_title = 'Child Tax Credit'\n",
    "paper_subtitle = 'Powered by Open Source Policy Modeling'\n",
    "paper_author = ' Alex Brill'\n",
    "paper_institute = 'American Enterprise Institute'\n",
    "paper_date = NoEscape(r'\\today')\n",
    "paper_series = 'Tax Brief Series No. 2'\n",
    "paper_bio = 'is a research fellow at the American Enterprise Institute (AEI).'"
   ]
  },
  {
   "cell_type": "code",
   "execution_count": 6,
   "metadata": {
    "collapsed": true
   },
   "outputs": [],
   "source": [
    "execfile('auto_func.py')"
   ]
  },
  {
   "cell_type": "code",
   "execution_count": 7,
   "metadata": {
    "collapsed": true
   },
   "outputs": [],
   "source": [
    "# This string is included under the 'policy' heading\n",
    "policy_string = \"Under current law, taxpayers can claim a Child Tax Credit (CTC) of up to \\\n",
    "$1,000 for each child under 17 years of age. The credit amount is dependent on the tax unit's \\\n",
    "modified adjusted gross income. If the CTC is greater than the amount of taxes owed, taxpayers \\\n",
    "may be eligible for the partially refundable Additional Child Tax Credit (ACTC).\"\n",
    "\n",
    "# This string is included under the 'reform options' heading\n",
    "options_string = \"Here we use the open source Tax-Calculator to simulate increasing the CTC by \\\n",
    "$500, decreasing it by $500, and eliminating it entirely. The simulations used are a partial \\\n",
    "equilibirum analysis with uses an elasticity of taxable income of 0.4.\"\n",
    "\n",
    "# the following string is included under the 'modeling notes' heading and 'tax-calculator' subheading\n",
    "tax_calculator_string = \"Tax-Calculator is an open source microsimulation tax model that computes federal \\\n",
    "individual income taxes and Federal Insurance Contribution Act (FICA) taxes for a sample of tax filing units \\\n",
    "for years beginning with 2013. The model can be used to simulate changes to federal tax policy to conduct \\\n",
    "revenue scoring, distributional impacts, and reform analysis. As an open source model, Tax-Calculator is \\\n",
    "under constant development and improvement. Therefore, the results reported in this paper will change as \\\n",
    "imporvements are made. The model relies on data from the 2009 IRS Public Use File (PUF). \\\n",
    "These results were generated using of Tax-Calculator Version 0.8.3.\"\n",
    "\n",
    "# the following string is included under the 'modeling notes' heading and 'modeling assumptions' subheading\n",
    "modeling_assumptions_string = \"The simulation is a partial equalibrium analysis that uses an \\\n",
    "elasticity of taxable income of 0.4. The baseline is adjusted by changing the CTC cap.\"\n",
    "\n",
    "# the following bullets are included under the 'comments' section\n",
    "bullet_1 = (\"Under current law, we expect \"\n",
    "           + str('{:.1f} million'.format((num_ided(calc_cl) / 10**6))) + \" taxpayers to claim the CTC in \"\n",
    "           + str(start_year) + \".\")\n",
    "\n",
    "bullet_2 = (\"The number of tax units claiming the CTC declines by \"\n",
    "            + str('{:.0f} percent'.format(abs(100 * ((num_ided(calc_dict['Increase CTC by $500']['Dynamic']) - num_ided(calc_cl)) / num_ided(calc_cl)))))\n",
    "            + \" when it is increased by $500. When the CTC is reduced by $500, the number of tax units claiming it decreases by \"\n",
    "            + str('{:.0f} percent'.format(abs(100 * ((num_ided(calc_dict['Decrease CTC by $500']['Dynamic']) - num_ided(calc_cl)) / num_ided(calc_cl)))))\n",
    "            + \". Eliminating the CTC causes \"\n",
    "            + str('{:,.1f} million'.format(abs(num_ided(calc_cl) / 10.0**6)))\n",
    "            + \" tax units to lose the benefit.\")\n",
    "\n",
    "bullet_3 = (\"Increasing the CTC by $500 is base-narrowing, increases the number of tax units paying no income tax by \" \n",
    "            + str('{:.0f} percent'.format((100 * ((no_inc_tax(calc_dict['Increase CTC by $500']['Dynamic']) - no_inc_tax(calc_cl)) / no_inc_tax(calc_cl))))) \n",
    "            + \". When the CTC is decreased by $500, the number of tax units paying no income tax decreases by \"\n",
    "            + str('{:.0f} percent'.format((100 * ((no_inc_tax(calc_dict['Decrease CTC by $500']['Dynamic']) - no_inc_tax(calc_cl)) / no_inc_tax(calc_cl))))) \n",
    "            + \". When the CTC is eliminated, the number of tax units paying no income tax decreases by \"\n",
    "            + str('{:.0f} percent'.format((100 * ((no_inc_tax(calc_dict['Eliminate CTC']['Dynamic']) - no_inc_tax(calc_cl)) / no_inc_tax(calc_cl))))))\n",
    "\n",
    "bullet_4 = (\"When the CTC is increased by $500, \" \n",
    "            + str('{:,.1f} million'.format((num_taxcut(calc_cl, calc_dict['Increase CTC by $500']['Dynamic']) / 10.0**6)))\n",
    "            + \" people receive tax cuts. When the CTC is decreased by $500, \"\n",
    "            + str('{:,.1f} million'.format((num_taxhike(calc_cl, calc_dict['Decrease CTC by $500']['Dynamic']) / 10.0**6)))\n",
    "            + \" people receive a tax increase.\")\n",
    "\n",
    "bullet_5 = (str('{:,.1f} million'.format((lwrMTR_wages(calc_cl, calc_dict['Increase CTC by $500']['Dynamic']) / 10.0**6))) \n",
    "            + \" people face lower marginal tax rates when the CTC is increased by $500, while \"\n",
    "            + str('{:,.1f} million'.format((hgrMTR_wages(calc_cl, calc_dict['Increase CTC by $500']['Dynamic']) / 10.0**6))) \n",
    "            + \" people will face higher marginal tax rates.\")\n",
    "\n",
    "bullet_6 = (\"Increasing the CTC by $500 costs \" \n",
    "            + currency_fmt((ten_year_cost_PE(calc_cl, calc_dict['Increase CTC by $500']['Dynamic'], beh_dict['Dynamic']))) \n",
    "            + \" billion over ten years, while decreasing the CTC by $500 will save \"\n",
    "            + currency_fmt((ten_year_cost_PE(calc_cl, calc_dict['Decrease CTC by $500']['Dynamic'], beh_dict['Dynamic']))) \n",
    "            + \" billion.\")\n",
    "\n",
    "bullets_std = []\n",
    "bullets_nstd = [bullet_1, bullet_2, bullet_3, bullet_4, bullet_5, bullet_6]"
   ]
  },
  {
   "cell_type": "code",
   "execution_count": 8,
   "metadata": {
    "collapsed": false
   },
   "outputs": [],
   "source": [
    "# produce document\n",
    "#!    graphs are currently uncommented\n",
    "\n",
    "doc = Document(project_name, geometry_options = {'top': '1.0in', 'bottom': '1.0in'})\n",
    "add_packages(doc)\n",
    "header(doc)\n",
    "policy(doc)\n",
    "options(doc)\n",
    "v_table(doc)\n",
    "auto_comments(doc)\n",
    "notes(doc)\n",
    "author(doc)\n",
    "logo_footer(doc)\n",
    "# graphs('Effective Marginal Tax Rates', r'1\\textwidth', dpi=300)\n",
    "doc.generate_pdf(project_name + '_W', clean_tex=False)"
   ]
  }
 ],
 "metadata": {
  "kernelspec": {
   "display_name": "Python 2",
   "language": "python",
   "name": "python2"
  },
  "language_info": {
   "codemirror_mode": {
    "name": "ipython",
    "version": 2
   },
   "file_extension": ".py",
   "mimetype": "text/x-python",
   "name": "python",
   "nbconvert_exporter": "python",
   "pygments_lexer": "ipython2",
   "version": "2.7.13"
  }
 },
 "nbformat": 4,
 "nbformat_minor": 2
}
