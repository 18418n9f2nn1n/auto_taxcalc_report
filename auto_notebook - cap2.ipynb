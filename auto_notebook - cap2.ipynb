{
 "cells": [
  {
   "cell_type": "code",
   "execution_count": 19,
   "metadata": {
    "collapsed": true
   },
   "outputs": [],
   "source": [
    "\"\"\"\n",
    "Dashboard Settings\n",
    "\"\"\"\n",
    "from taxcalc import *\n",
    "\n",
    "start_year = 2017\n",
    "records_url = 'puf.csv'"
   ]
  },
  {
   "cell_type": "code",
   "execution_count": 20,
   "metadata": {
    "collapsed": true
   },
   "outputs": [],
   "source": [
    "\"\"\"\n",
    "Behavioral Settings\n",
    "\"\"\"\n",
    "tyc_beh = {start_year: {'_BE_inc': [0.0],\n",
    "                        '_BE_sub': [0.4],\n",
    "                        '_BE_cg': [0.0],\n",
    "                        '_BE_charity': [[-0.9999, -0.9999, -0.9999]]}}\n",
    "\n",
    "# The following name will be used as the comparative baseline case in the calculation of formulas and automated notes\n",
    "baseline_behavior_name = 'Baseline'\n",
    "\n",
    "beh_0 = {start_year: {'_BE_inc': [0.0],\n",
    "                      '_BE_sub': [0.4],\n",
    "                      '_BE_cg': [0.0],\n",
    "                      '_BE_charity': [[-0.9999, -0.9999, -0.9999]]}}\n",
    "beh_1 = {start_year: {'_BE_inc': [0.0],\n",
    "                      '_BE_sub': [0.4],\n",
    "                      '_BE_cg': [0.0],\n",
    "                      '_BE_charity': [[-0.9999, -0.9999, -0.9999]]}}\n",
    "\n",
    "# behavior dict with static baseline\n",
    "# beh_dict = OrderedDict([(base_beh, beh_0), ('Dynamic', beh_1)])\n",
    "\n",
    "# behavior dict w/o static baseline\n",
    "beh_dict = OrderedDict([('Dynamic', beh_1)])"
   ]
  },
  {
   "cell_type": "code",
   "execution_count": 21,
   "metadata": {
    "collapsed": true
   },
   "outputs": [],
   "source": [
    "\"\"\"\n",
    "Policy Settings\n",
    "\"\"\"\n",
    "# using https://www.aei.org/publication/trump-tax-plan-could-negatively-impact-giving/\n",
    "# cap idemized deductions at $100,000 for individuals, $200,000 for couples\n",
    "\n",
    "# increase child credit by $500, decrease by $500, and eliminate\n",
    "ref_0 = {start_year: {}}\n",
    "ref_1 = {start_year: {'_ID_c': [[25000, 50000, 25000, 25000, 25000]]}}\n",
    "ref_2 = {start_year: {'_ID_c': [[50000, 100000, 50000, 50000, 50000]]}}\n",
    "ref_3 = {start_year: {'_ID_c': [[100000, 200000, 100000, 100000, 100000]]}}\n",
    "ref_4 = {start_year: {'_ID_c': [[200000, 400000, 200000, 200000, 200000]]}}\n",
    "\n",
    "ref_dict = OrderedDict([(\"Current Law\", ref_0),\n",
    "                        (\"$200,000\", ref_4),\n",
    "                        (\"$100,000\", ref_3),\n",
    "                        (\"$50,000\", ref_2),\n",
    "                        (\"$25,000\", ref_1)])"
   ]
  },
  {
   "cell_type": "code",
   "execution_count": 22,
   "metadata": {
    "collapsed": false
   },
   "outputs": [
    {
     "name": "stdout",
     "output_type": "stream",
     "text": [
      "You loaded data for 2009.\n",
      "Tax-Calculator startup automatically extrapolated your data to 2013.\n",
      "Done\n",
      "You loaded data for 2009.\n",
      "Tax-Calculator startup automatically extrapolated your data to 2013.\n",
      "You loaded data for 2009.\n",
      "Tax-Calculator startup automatically extrapolated your data to 2013.\n",
      "Done\n",
      "You loaded data for 2009.\n",
      "Tax-Calculator startup automatically extrapolated your data to 2013.\n",
      "You loaded data for 2009.\n",
      "Tax-Calculator startup automatically extrapolated your data to 2013.\n",
      "Done\n",
      "You loaded data for 2009.\n",
      "Tax-Calculator startup automatically extrapolated your data to 2013.\n",
      "You loaded data for 2009.\n",
      "Tax-Calculator startup automatically extrapolated your data to 2013.\n",
      "Done\n",
      "You loaded data for 2009.\n",
      "Tax-Calculator startup automatically extrapolated your data to 2013.\n",
      "You loaded data for 2009.\n",
      "Tax-Calculator startup automatically extrapolated your data to 2013.\n",
      "Done\n",
      "You loaded data for 2009.\n",
      "Tax-Calculator startup automatically extrapolated your data to 2013.\n",
      "You loaded data for 2009.\n",
      "Tax-Calculator startup automatically extrapolated your data to 2013.\n",
      "Done\n",
      "0.0\n",
      "198.372507156\n",
      "309.355518462\n",
      "507.418857084\n",
      "939.781849787\n",
      "Done\n",
      "0.0\n",
      "214.513422524\n",
      "335.992913892\n",
      "554.784766925\n",
      "1015.8125272\n",
      "Done\n"
     ]
    }
   ],
   "source": [
    "\"\"\"\n",
    "The first item in 'column_list' should either be 'Reform',\n",
    "if the table is to be indexed by policy reforms, or 'behavior',\n",
    "if the table is to be indexed by behavioral assumptions\n",
    "\"\"\"\n",
    "\n",
    "column_list = ['Behavior',\n",
    "               'Deduction Cap, Joint Filers',\n",
    "               'Taxpayers Receiving Tax Hike (millions)',\n",
    "               'Itemizers (millions)',\n",
    "               'Wght. Ave. MTR on Charitable Contributions',\n",
    "               'Total Charitable Contributions (billions)',\n",
    "               '10-Year Revenue Change, Dynamic (billions)']\n",
    "\n",
    "execfile('auto_calc.py')"
   ]
  },
  {
   "cell_type": "code",
   "execution_count": 9,
   "metadata": {
    "collapsed": false
   },
   "outputs": [],
   "source": [
    "\"\"\"\n",
    "Document Settings\n",
    "\"\"\"\n",
    "project_name = 'cap_itemized_deductions_2'\n",
    "paper_title = 'Effect of Itemized Deduction Caps on Charitable Giving'\n",
    "paper_subtitle = 'Powered by Open Source Policy Modeling'\n",
    "paper_author = ' Alex Brill'\n",
    "paper_institute = 'American Enterprise Institute'\n",
    "paper_series = 'Tax Brief Series No. 4'\n",
    "paper_bio = 'is a research fellow at the American Enterprise Institute (AEI).'"
   ]
  },
  {
   "cell_type": "code",
   "execution_count": 11,
   "metadata": {
    "collapsed": false
   },
   "outputs": [
    {
     "ename": "NameError",
     "evalue": "name 'ref_dict' is not defined",
     "output_type": "error",
     "traceback": [
      "\u001b[0;31m---------------------------------------------------------------------------\u001b[0m",
      "\u001b[0;31mNameError\u001b[0m                                 Traceback (most recent call last)",
      "\u001b[0;32m<ipython-input-11-c258c0d90b72>\u001b[0m in \u001b[0;36m<module>\u001b[0;34m()\u001b[0m\n\u001b[0;32m----> 1\u001b[0;31m \u001b[0mexecfile\u001b[0m\u001b[1;33m(\u001b[0m\u001b[1;34m'auto_func.py'\u001b[0m\u001b[1;33m)\u001b[0m\u001b[1;33m\u001b[0m\u001b[0m\n\u001b[0m",
      "\u001b[0;32mC:\\Users\\will.ensor\\Documents\\GitHub\\tax-calculator\\auto_func.py\u001b[0m in \u001b[0;36m<module>\u001b[0;34m()\u001b[0m\n\u001b[1;32m    309\u001b[0m \u001b[1;33m\u001b[0m\u001b[0m\n\u001b[1;32m    310\u001b[0m \u001b[1;33m\u001b[0m\u001b[0m\n\u001b[0;32m--> 311\u001b[0;31m \u001b[1;32mdef\u001b[0m \u001b[0mauto_bullets\u001b[0m\u001b[1;33m(\u001b[0m\u001b[0mdoc\u001b[0m\u001b[1;33m,\u001b[0m \u001b[0mref_dict\u001b[0m\u001b[1;33m=\u001b[0m\u001b[0mref_dict\u001b[0m\u001b[1;33m)\u001b[0m\u001b[1;33m:\u001b[0m\u001b[1;33m\u001b[0m\u001b[0m\n\u001b[0m\u001b[1;32m    312\u001b[0m     \"\"\"\n\u001b[1;32m    313\u001b[0m     \u001b[0mGenerate\u001b[0m \u001b[0mautomate\u001b[0m \u001b[0mbullets\u001b[0m \u001b[0musing\u001b[0m \u001b[0mref_dict\u001b[0m\u001b[1;33m.\u001b[0m\u001b[1;33m\u001b[0m\u001b[0m\n",
      "\u001b[0;31mNameError\u001b[0m: name 'ref_dict' is not defined"
     ]
    }
   ],
   "source": [
    "execfile('auto_func.py')"
   ]
  },
  {
   "cell_type": "code",
   "execution_count": null,
   "metadata": {
    "collapsed": true
   },
   "outputs": [],
   "source": [
    "# This string is included under the 'policy' heading\n",
    "policy_string = \"Taxpayers can take the standard deduction or itemize. \\\n",
    "Tax units face deduction limits if their contributions  adjusted gross income \\\n",
    "(AGI) exceeds $311,300 if married filing jointly, \\\n",
    "$285,350 if head of household, $259,400 if single, or $155,650 if married \\\n",
    "filing separately. Deductions must then be limited by \\\n",
    "the smaller of 80 percent of their itemized deductions and 3 percent of the \\\n",
    "amount their AGI exceeds the limit.\"\n",
    "\n",
    "# This string is included under the 'reform options' heading\n",
    "options_string = \"To offset proposed cuts to the top marginal tax rate, the \\\n",
    "the Trump campaign proposed limiting itemized deductions to \\\n",
    "$100,000 for singles and $200,000 for joint filers. Using the open-source \\\n",
    "Tax-Calculator, I present results describing the effects of limiting itemized \\\n",
    "deductions with elasticities of charitable contributions of -1.0. To examine the \\\n",
    "range of policy options, we simulate itemized deduction caps for singles of \\\n",
    "$25,000, $50,000, and $200,000 in addition to the $100,000 cap explicitly outlined. \\\n",
    "Joint filers are assumed to have deductions twice those amounts.\"\n",
    "\n",
    "# the following string is included under the 'modeling notes' heading and 'tax-calculator' subheading\n",
    "tax_calculator_string = \"Tax-Calculator is an open source \\\n",
    "microsimulation tax model that computes federal individual income taxes and Federal Insurance \\\n",
    "Contribution Act (FICA) taxes for a sample of tax filing units for years beginning with 2013. \\\n",
    "The model can be used to simulate changes to federal tax policy to conduct revenue scoring, \\\n",
    "distributional impacts, and reform analysis. As an open source model, Tax-Calculator is under \\\n",
    "constant development and improvement. Therefore, the results reported in this paper will change \\\n",
    "as imporvements are made. The model relies on data from the 2009 IRS Public Use File (PUF). \\\n",
    "These results are generated using Tax-Calculator Version 0.8.3.\"\n",
    "\n",
    "# the following string is included under the 'modeling notes' heading and 'modeling assumptions' subheading\n",
    "modeling_assumptions_string = \"The cost estimation from a partial equalibrium analysis that uses \\\n",
    "an elasticity of taxable income of 0.4. The cap on deductions is adjusted to $25,000, $50,000 and \\\n",
    "$100,000 for single filers (double that amount for joint filers).\"\n",
    "\n",
    "# the following bullets are included under the 'comments' section\n",
    "bullet_1 = (\"Under current law, charitable contributions total \" \n",
    "            + currency_fmt(num_charity(calc_cl)) + \" billion.\")\n",
    "\n",
    "bullet_2 = (\"When a contribution cap of $25,000 is imposed, we estimate charitable contributions will fall by \"\n",
    "            + '${:.1f} billion'.format(abs(num_charity(calc_dict['$25,000']['Dynamic']) - num_charity(calc_cl))) \n",
    "            + \", assuming a elasticity of charitable contributions equal to -1.0.\")\n",
    "\n",
    "bullet_3 = (\"When a contribution cap of $50,000 is imposed, we estimate charitable contributions will fall by \"\n",
    "            + '${:.1f} billion'.format(abs(num_charity(calc_dict['$50,000']['Dynamic']) - num_charity(calc_cl))) \n",
    "            + \", assuming a elasticity of charitable contributions equal to -1.0.\")\n",
    "\n",
    "bullet_4 = (\"When a contribution cap of $100,000 is imposed, we estimate charitable contributions will fall by \"\n",
    "            + '${:.1f} billion'.format(abs(num_charity(calc_dict['$100,000']['Dynamic']) - num_charity(calc_cl))) \n",
    "            + \", assuming a elasticity of charitable contributions equal to -1.0.\")\n",
    "\n",
    "bullet_5 = (\"When a contribution cap of $200,000 is imposed, we estimate charitable contributions will fall by \"\n",
    "            + '${:.1f} billion'.format(abs(num_charity(calc_dict['$200,000']['Dynamic']) - num_charity(calc_cl))) \n",
    "            + \", assuming a elasticity of charitable contributions equal to -1.0.\")\n",
    "\n",
    "bullets_std = []\n",
    "bullets_nstd = [bullet_1, bullet_2, bullet_3, bullet_4, bullet_5]"
   ]
  },
  {
   "cell_type": "code",
   "execution_count": null,
   "metadata": {
    "collapsed": false
   },
   "outputs": [],
   "source": [
    "# produce document\n",
    "#!    graphs are currently uncommented\n",
    "\n",
    "doc = Document(project_name, geometry_options = {'top': '1.0in', 'bottom': '1.0in'})\n",
    "add_packages(doc)\n",
    "header(doc)\n",
    "policy(doc)\n",
    "options(doc)\n",
    "v_table(doc)\n",
    "auto_comments(doc)\n",
    "notes(doc)\n",
    "author(doc)\n",
    "logo_footer(doc)\n",
    "# graphs('Effective Marginal Tax Rates', r'1\\textwidth', dpi=300)\n",
    "doc.generate_pdf(project_name + '_W', clean_tex=False)"
   ]
  },
  {
   "cell_type": "code",
   "execution_count": 5,
   "metadata": {
    "collapsed": true
   },
   "outputs": [],
   "source": [
    "ok = ['one', 'two', 'three', 'four']"
   ]
  },
  {
   "cell_type": "code",
   "execution_count": 6,
   "metadata": {
    "collapsed": true
   },
   "outputs": [],
   "source": [
    "del ok[0]"
   ]
  },
  {
   "cell_type": "code",
   "execution_count": 7,
   "metadata": {
    "collapsed": false
   },
   "outputs": [
    {
     "data": {
      "text/plain": [
       "['two', 'three', 'four']"
      ]
     },
     "execution_count": 7,
     "metadata": {},
     "output_type": "execute_result"
    }
   ],
   "source": [
    "ok"
   ]
  },
  {
   "cell_type": "code",
   "execution_count": 2,
   "metadata": {
    "collapsed": true
   },
   "outputs": [],
   "source": [
    "two = ['one', 'two', 'three', 'four']"
   ]
  },
  {
   "cell_type": "code",
   "execution_count": 3,
   "metadata": {
    "collapsed": true
   },
   "outputs": [],
   "source": [
    "x = ok + two"
   ]
  },
  {
   "cell_type": "code",
   "execution_count": 4,
   "metadata": {
    "collapsed": false
   },
   "outputs": [
    {
     "data": {
      "text/plain": [
       "['one', 'two', 'three', 'four', 'one', 'two', 'three', 'four']"
      ]
     },
     "execution_count": 4,
     "metadata": {},
     "output_type": "execute_result"
    }
   ],
   "source": [
    "x"
   ]
  },
  {
   "cell_type": "code",
   "execution_count": null,
   "metadata": {
    "collapsed": true
   },
   "outputs": [],
   "source": []
  }
 ],
 "metadata": {
  "kernelspec": {
   "display_name": "Python 2",
   "language": "python",
   "name": "python2"
  },
  "language_info": {
   "codemirror_mode": {
    "name": "ipython",
    "version": 2
   },
   "file_extension": ".py",
   "mimetype": "text/x-python",
   "name": "python",
   "nbconvert_exporter": "python",
   "pygments_lexer": "ipython2",
   "version": "2.7.13"
  }
 },
 "nbformat": 4,
 "nbformat_minor": 2
}
