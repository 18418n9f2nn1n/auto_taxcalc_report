{
 "cells": [
  {
   "cell_type": "code",
   "execution_count": 1,
   "metadata": {
    "collapsed": true
   },
   "outputs": [],
   "source": [
    "\"\"\"\n",
    "Dashboard Settings\n",
    "\"\"\"\n",
    "from taxcalc import *\n",
    "\n",
    "start_year = 2017\n",
    "records_url = 'puf.csv'"
   ]
  },
  {
   "cell_type": "code",
   "execution_count": 2,
   "metadata": {
    "collapsed": true
   },
   "outputs": [],
   "source": [
    "\"\"\"\n",
    "Behavioral Settings\n",
    "\"\"\"\n",
    "tyc_beh = {start_year: {'_BE_inc': [0.0], \n",
    "                        '_BE_sub': [0.4], \n",
    "                        '_BE_cg': [0.0]}}\n",
    "\n",
    "# The following name will be used as the comparative baseline case in the calculation of formulas and automated notes\n",
    "beh_0 = {start_year: {'_BE_inc': [0.0],\n",
    "                      '_BE_sub': [0.4],\n",
    "                      '_BE_cg': [0.0]}}\n",
    "beh_1 = {start_year: {'_BE_inc': [0.0],\n",
    "                      '_BE_sub': [0.4],\n",
    "                      '_BE_cg': [0.0]}}\n",
    "\n",
    "# behavior dict with static baseline\n",
    "# beh_dict = OrderedDict([(base_beh, beh_0), ('Dynamic', beh_1)])\n",
    "\n",
    "# behavior dict w/o static baseline\n",
    "beh_dict = OrderedDict([('Dynamic', beh_1)])"
   ]
  },
  {
   "cell_type": "code",
   "execution_count": 3,
   "metadata": {
    "collapsed": false
   },
   "outputs": [],
   "source": [
    "\"\"\"\n",
    "Policy Settings\n",
    "\"\"\"\n",
    "\n",
    "base_law = 'Current Law'\n",
    "\n",
    "current_law = {start_year: {}}\n",
    "\n",
    "ref_0 = {start_year: {'_ID_Medical_hc' : [1.0], \n",
    "                      '_ID_Charity_hc' : [1.0], \n",
    "                      '_ID_Casualty_hc' : [1.0], \n",
    "                      '_ID_Miscellaneous_hc' : [1.0]}}\n",
    "\n",
    "ref_1 = {start_year: {'_ID_Medical_hc' : [1.0], \n",
    "                      '_ID_Charity_hc' : [1.0], \n",
    "                      '_ID_Casualty_hc' : [1.0], \n",
    "                      '_ID_Miscellaneous_hc' : [1.0], \n",
    "                      '_STD': [[6350 * 2, 12700 * 2, 6350 * 2, 9350 * 2, 12700 * 2]]}}\n",
    "\n",
    "ref_2 = {start_year: {'_ID_Medical_hc' : [1.0], \n",
    "                      '_ID_Charity_hc' : [1.0], \n",
    "                      '_ID_Casualty_hc' : [1.0], \n",
    "                      '_ID_Miscellaneous_hc' : [1.0], \n",
    "                      '_STD': [[6350 * 2, 12700 * 2, 6350 * 2, 9350 * 2, 12700 * 2]],\n",
    "                      '_II_em': [0]}}\n",
    "\n",
    "ref_dict = OrderedDict([(base_law, current_law),\n",
    "                        ('+ Repeal Itemized Deductions', ref_0),\n",
    "                        ('+ Double Standard Deduction', ref_1), \n",
    "                        ('+ Repeal Personal Exemption', ref_2)])"
   ]
  },
  {
   "cell_type": "code",
   "execution_count": 4,
   "metadata": {
    "collapsed": false
   },
   "outputs": [
    {
     "name": "stdout",
     "output_type": "stream",
     "text": [
      "You loaded data for 2009.\n",
      "Tax-Calculator startup automatically extrapolated your data to 2013.\n",
      "Done\n",
      "You loaded data for 2009.\n",
      "Tax-Calculator startup automatically extrapolated your data to 2013.\n",
      "You loaded data for 2009.\n",
      "Tax-Calculator startup automatically extrapolated your data to 2013.\n",
      "You loaded data for 2009.\n",
      "Tax-Calculator startup automatically extrapolated your data to 2013.\n",
      "You loaded data for 2009.\n",
      "Tax-Calculator startup automatically extrapolated your data to 2013.\n",
      "You loaded data for 2009.\n",
      "Tax-Calculator startup automatically extrapolated your data to 2013.\n",
      "You loaded data for 2009.\n",
      "Tax-Calculator startup automatically extrapolated your data to 2013.\n",
      "You loaded data for 2009.\n",
      "Tax-Calculator startup automatically extrapolated your data to 2013.\n",
      "You loaded data for 2009.\n",
      "Tax-Calculator startup automatically extrapolated your data to 2013.\n",
      "0.0\n",
      "896.717289458\n",
      "-387.089963733\n",
      "1161.15344467\n",
      "Done\n",
      "0.0\n",
      "935.890445752\n",
      "-271.56915076\n",
      "1233.81700876\n",
      "Done\n"
     ]
    }
   ],
   "source": [
    "execfile('auto_taxcalc_report.py')"
   ]
  },
  {
   "cell_type": "code",
   "execution_count": 5,
   "metadata": {
    "collapsed": true
   },
   "outputs": [],
   "source": [
    "\"\"\"\n",
    "Document Settings\n",
    "\"\"\"\n",
    "project_name = 'personal_exemption'\n",
    "paper_title = 'Repealing the Personal Exemption'\n",
    "paper_subtitle = 'Powered by Open Source Policy Modeling'\n",
    "paper_author = ' Alex Brill'\n",
    "paper_institute = 'American Enterprise Institute'\n",
    "paper_date = NoEscape(r'\\today')\n",
    "paper_series = 'Tax Brief Series No. 3'\n",
    "paper_bio = 'is a research fellow at the American Enterprise Institute (AEI).'"
   ]
  },
  {
   "cell_type": "code",
   "execution_count": 6,
   "metadata": {
    "collapsed": false
   },
   "outputs": [],
   "source": [
    "# This string is included under the 'policy' heading\n",
    "policy_string = \"Under current law, taxpayers can claim a personal exemption \\\n",
    "against their taxable income. The personal exemption amount will be $4,050 in 2017. \\\n",
    "The actual benefit depends on the taxpayers marginal tax rate and average gross income. \\\n",
    "Taxpayer's can also claim a standard deduction as an alternative to itemizing one's deductions. \\\n",
    "In 2017, the standard deductuion will be $6,350 for single filers, $9,350 for head of \\\n",
    "household filers, and $12,700 for married couples filing jointly.\"\n",
    "\n",
    "# This string is included under the 'reform options' heading\n",
    "options_string = \"Using the open-source Tax-Calculator, I present the result of repealing itemized deductions \\\n",
    "(excluding mortgage interest, state and local, and real estate deductions), doubling the standard deduction, \\\n",
    "and repealing the personal exemption. These reforms implimented in each iteration of the model. \\\n",
    "The costs of these reforms are estimated using a partial equalibrium analysis.\"\n",
    "\n",
    "# the following string is included under the 'modeling notes' heading and 'tax-calculator' subheading\n",
    "tax_calculator_string = \"Tax-Calculator is an open source \\\n",
    "microsimulation tax model that computes federal individual income taxes and Federal Insurance \\\n",
    "Contribution Act (FICA) taxes for a sample of tax filing units for years beginning with 2013. \\\n",
    "The model can be used to simulate changes to federal tax policy to conduct revenue scoring, \\\n",
    "distributional impacts, and reform analysis. As an open source model, Tax-Calculator is under \\\n",
    "constant development and improvement. Therefore, the results reported in this paper will change \\\n",
    "as imporvements are made. The model relies on data from the 2009 IRS Public Use File (PUF). \\\n",
    "These results are generated using Tax-Calculator Version 0.8.3.\"\n",
    "\n",
    "# the following string is included under the 'modeling notes' heading and 'modeling assumptions' subheading\n",
    "modeling_assumptions_string = \"The simulation is a partial equalibrium analysis that uses an \\\n",
    "elasticity of taxable income of 0.4.\"\n",
    "\n",
    "# the following bullets are included under the 'comments' section\n",
    "bullet_1 = (\"Under current law, \" \n",
    "            + str('{:.1f} million'.format(num_std(calc_cl) / 10**6)) \n",
    "            + \" taxpayers are expected to claim the standard deduction, and \" \n",
    "            + str('{:.1f} million'.format(num_ided(calc_cl) / 10**6)) \n",
    "            + \" are expected to itemize their deductions in \" + str(start_year) + \".\")\n",
    "\n",
    "n1 = num_ided(calc_dict['+ Double Standard Deduction']['Dynamic'])\n",
    "n2 = num_ided(calc_dict['+ Repeal Personal Exemption']['Dynamic'])\n",
    "\n",
    "bullet_2 = (\"When the standard deduction is doubled and the personal exemption is kept in place \"\n",
    "            + \"the number of itemizers \"\n",
    "            + verb(n1) + \"s by \" +  str('{:.1f} million'.format(n1 / 10**6)) + \" taxpayers. \"\n",
    "            + \"When the personal exemption is repealed, the number of itemizers \"\n",
    "            + verb(n2) + \"s by \" +  str('{:.1f} million'.format(n2 / 10**6)) + \" taxpayers.\")\n",
    "\n",
    "bullet_3 = (\"When the standard deduction is increased by 200 percent, \" \n",
    "            + str('{:,.1f} million'.format(num_taxcut(calc_cl, calc_dict['+ Double Standard Deduction']['Dynamic']) / 10.0**6))\n",
    "            + \" people receive tax cuts.\")\n",
    "\n",
    "bullet_4 = (\"When the standard deduction is doubled, \"\n",
    "            + str('{:,.1f} million'.format(lwrMTR_wages(calc_cl, calc_dict['+ Double Standard Deduction']['Dynamic']) / 10.0**6)) \n",
    "            + \" people face lower marginal tax rates while\"\n",
    "            + str('{:,.1f} million'.format(hgrMTR_wages(calc_cl, calc_dict['+ Double Standard Deduction']['Dynamic']) / 10.0**6))\n",
    "            + \" people face higher marginal tax rates.\")\n",
    "\n",
    "bullets_std = []\n",
    "bullets_nstd = [bullet_1, bullet_2, bullet_3, bullet_4]"
   ]
  },
  {
   "cell_type": "code",
   "execution_count": 8,
   "metadata": {
    "collapsed": false
   },
   "outputs": [],
   "source": [
    "# produce document\n",
    "#!    graphs are currently uncommented\n",
    "\n",
    "doc = Document(project_name, geometry_options = {'top': '1.0in', 'bottom': '1.0in'})\n",
    "add_packages(doc)\n",
    "header(doc)\n",
    "policy(doc)\n",
    "options(doc)\n",
    "v_table(doc)\n",
    "auto_comments(doc)\n",
    "notes(doc)\n",
    "author(doc)\n",
    "logo_footer(doc)\n",
    "# graphs('Effective Marginal Tax Rates', r'1\\textwidth', dpi=300)\n",
    "doc.generate_pdf(project_name + '_W', clean_tex=False)"
   ]
  },
  {
   "cell_type": "code",
   "execution_count": null,
   "metadata": {
    "collapsed": true
   },
   "outputs": [],
   "source": []
  }
 ],
 "metadata": {
  "kernelspec": {
   "display_name": "Python 2",
   "language": "python",
   "name": "python2"
  },
  "language_info": {
   "codemirror_mode": {
    "name": "ipython",
    "version": 2
   },
   "file_extension": ".py",
   "mimetype": "text/x-python",
   "name": "python",
   "nbconvert_exporter": "python",
   "pygments_lexer": "ipython2",
   "version": "2.7.13"
  }
 },
 "nbformat": 4,
 "nbformat_minor": 2
}
