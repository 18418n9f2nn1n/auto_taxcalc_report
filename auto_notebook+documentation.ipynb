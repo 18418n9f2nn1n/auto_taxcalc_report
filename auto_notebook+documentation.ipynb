{
 "cells": [
  {
   "cell_type": "markdown",
   "metadata": {},
   "source": [
    "# Auto-Notebook Documentation"
   ]
  },
  {
   "cell_type": "markdown",
   "metadata": {},
   "source": [
    "This notebook provides documentation of how to use the auto_notebook tool to generate [Tax-Calculator](https://github.com/open-source-economics/Tax-Calculator.git) reports.\n",
    "\n",
    "The auto-notebook tool leverages the PyLaTeX package to generate single-page reports of policy reforms simulated using Tax-Calculator. To properly execute auto-notebook it is necessary to have the [PyLaTeX](https://jeltef.github.io/PyLaTeX/latest/) library installed and have two Python files in your operating directory: [`auto_func.py`](https://github.com/econ02/auto_taxcalc_report/blob/master/auto_func.py) and [`auto_calc.py`](https://github.com/econ02/auto_taxcalc_report/blob/master/auto_calc.py). These Python files contain the necessary commands to produce the auto-report.\n",
    "\n",
    "Additional auto-notebook examples can be found on [GitHub](https://github.com/econ02/auto_taxcalc_report/tree/master/examples)."
   ]
  },
  {
   "cell_type": "markdown",
   "metadata": {},
   "source": [
    "The only packages needed to run the auto-notebook are `taxcalc` and `collections`."
   ]
  },
  {
   "cell_type": "code",
   "execution_count": 1,
   "metadata": {
    "collapsed": true
   },
   "outputs": [],
   "source": [
    "from taxcalc import *\n",
    "from collections import OrderedDict"
   ]
  },
  {
   "cell_type": "markdown",
   "metadata": {},
   "source": [
    "All additional packages are imported through the auxillary Python files, `auto_func.py` and `auto_calc.py`. The following packages are included:"
   ]
  },
  {
   "cell_type": "code",
   "execution_count": 3,
   "metadata": {
    "collapsed": true
   },
   "outputs": [],
   "source": [
    "import re \n",
    "import os\n",
    "import sys\n",
    "import math\n",
    "import copy\n",
    "import locale\n",
    "import datetime\n",
    "import numpy as np\n",
    "import pandas as pd\n",
    "import matplotlib.pyplot as plt\n",
    "from taxcalc import *\n",
    "from decimal import *\n",
    "from pylatex.utils import italic, NoEscape\n",
    "from pylatex.base_classes import Container, Command\n",
    "from pylatex import Document, PageStyle, Head, Foot, MiniPage, Section, \\\n",
    "                    Command, StandAloneGraphic, MultiColumn, MultiRow, Tabu, \\\n",
    "                    LongTabu, LargeText, MediumText, LineBreak, NewPage, \\\n",
    "                    Tabularx, Tabular, TextColor, simple_page_number, Figure, \\\n",
    "                    Subsection, Math, TikZ, Axis, Plot, Figure, Matrix, Itemize"
   ]
  },
  {
   "cell_type": "markdown",
   "metadata": {},
   "source": [
    "To begin auto_notebook, you must first define a start year for each simulation and the path of the data: `records_url`."
   ]
  },
  {
   "cell_type": "code",
   "execution_count": 4,
   "metadata": {
    "collapsed": true
   },
   "outputs": [],
   "source": [
    "\"\"\"\n",
    "Dashboard Settings\n",
    "\"\"\"\n",
    "\n",
    "start_year = 2017\n",
    "records_url = 'puf.csv'"
   ]
  },
  {
   "cell_type": "markdown",
   "metadata": {},
   "source": [
    "The next step in auto_notebook is to define the behavioral settings for the simulations. There are two types of behavioral settings: `tyc_beh` and `beh_`. The `tyc_beh` setting only applies to dynamic ten year cost estiamtes but does not apply to the remainder of the simulation. The `beh_` settings allows for the calculator to perform under a number of different behavioral settings. Each desired setting should be defined and included in `beh_dict`, and ordered dictionary that allows the auto_notebook functions to apply each behavioral assumption. Note that the reference name in the ordered dictionary will be the term used to refer to that behavior when any summary tables are produced. It is not necessary to define mutliple behaviors or include any dynamics. "
   ]
  },
  {
   "cell_type": "code",
   "execution_count": 10,
   "metadata": {
    "collapsed": false
   },
   "outputs": [],
   "source": [
    "\"\"\"\n",
    "Behavioral Settings\n",
    "\"\"\"\n",
    "tyc_beh = {start_year: {'_BE_inc': [0.0], \n",
    "                        '_BE_sub': [0.4], \n",
    "                        '_BE_cg': [0.0]}}\n",
    "\n",
    "# The following name will be used as the comparative baseline case in the calculation of formulas and automated notes\n",
    "beh_0 = {start_year: {'_BE_inc': [0.0],\n",
    "                      '_BE_sub': [0.4],\n",
    "                      '_BE_cg': [0.0]}}\n",
    "beh_1 = {start_year: {'_BE_inc': [0.0],\n",
    "                      '_BE_sub': [0.4],\n",
    "                      '_BE_cg': [0.0]}}\n",
    "\n",
    "# behavior dict with static baseline\n",
    "# beh_dict = OrderedDict([(base_beh, beh_0), ('Dynamic', beh_1)])\n",
    "\n",
    "# behavior dict w/o static baseline\n",
    "beh_dict = OrderedDict([('Dynamic', beh_1)])"
   ]
  },
  {
   "cell_type": "markdown",
   "metadata": {},
   "source": [
    "Policy settings are also defined and included in an ordered dictionary called `ref_dict`. Reforms can be labeled using variables (as done below) or directly in the ordered dictionary. The labels used will be used in any table generation and must be referenced in the calculation of any parameters as part of the auto_notebook. Functions will loop though each reform and apply each behavioral setting in `beh_dict`."
   ]
  },
  {
   "cell_type": "code",
   "execution_count": 5,
   "metadata": {
    "collapsed": false
   },
   "outputs": [],
   "source": [
    "\"\"\"\n",
    "Policy Settings\n",
    "\"\"\"\n",
    "\n",
    "current_law_title = 'Current Law'\n",
    "current_law = {start_year: {}}\n",
    "\n",
    "ref_1_title = 'Repeal ID & Double SD'\n",
    "ref_1 = {start_year: {'_ID_Medical_hc' : [1.0], \n",
    "                      '_ID_StateLocalTax_hc' : [1.0], \n",
    "                      '_ID_RealEstate_hc' : [1.0], \n",
    "                      '_ID_InterestPaid_hc' : [1.0],\n",
    "                      '_ID_Charity_hc' : [1.0],\n",
    "                      '_ID_Casualty_hc' : [1.0],\n",
    "                      '_STD': [[6350 * 2, 12700 * 2, 6350 * 2, 9350 * 2, 12700 * 2]]}}\n",
    "\n",
    "ref_2_title = 'Repeal ID, Double SD, & Repeal PE'\n",
    "ref_2 = {start_year: {'_ID_Medical_hc' : [1.0], \n",
    "                      '_ID_StateLocalTax_hc' : [1.0], \n",
    "                      '_ID_RealEstate_hc' : [1.0], \n",
    "                      '_ID_InterestPaid_hc' : [1.0],\n",
    "                      '_ID_Charity_hc' : [1.0],\n",
    "                      '_ID_Casualty_hc' : [1.0],\n",
    "                      '_STD': [[6350 * 2, 12700 * 2, 6350 * 2, 9350 * 2, 12700 * 2]],\n",
    "                      '_II_em': [0]}}\n",
    "\n",
    "ref_dict = OrderedDict([(current_law_title, current_law),\n",
    "                        (ref_1_title, ref_1), \n",
    "                        (ref_2_title, ref_2)])"
   ]
  },
  {
   "cell_type": "markdown",
   "metadata": {},
   "source": [
    "The next section defines the settings for the summary table to be included in the report. There are two settings used in setting up the table. THe `column_label` is the title of the leftmost reform column. The `column_list` is a series of variables that you wish to include in the table. The table function works by looking up each variable and returning a token, from which the value can be calculated."
   ]
  },
  {
   "cell_type": "code",
   "execution_count": 7,
   "metadata": {
    "collapsed": true
   },
   "outputs": [],
   "source": [
    "\"\"\"\n",
    "The first item in 'column_list' should either be 'Reform',\n",
    "if the table is to be indexed by policy reforms, or 'behavior',\n",
    "if the table is to be indexed by behavioral assumptions\n",
    "\"\"\"\n",
    "\n",
    "column_label = 'Policy'\n",
    "column_list = ['Reform',\n",
    "               'Taxpayers Receiving Tax Cut (millions)',\n",
    "               'Itemizers (millions)',\n",
    "               'Taxpayers Facing Lower Marginal Tax Rate (millions)',\n",
    "               'Taxpayers Paying Zero or Less Income Tax (millions)',\n",
    "               '10-Year Revenue Change, Dynamic (billions)']"
   ]
  },
  {
   "cell_type": "markdown",
   "metadata": {},
   "source": [
    "Each variable and token is stored in the `table_vars_dict` in the `auto_func.py` file. The corresponding tokens are commands stored as strings that are executed in the table function. The current version of `table_vars_dict` contains the following variables (note that variables can be added to this dictionary as desired)."
   ]
  },
  {
   "cell_type": "code",
   "execution_count": 8,
   "metadata": {
    "collapsed": true
   },
   "outputs": [],
   "source": [
    "table_vars_dict = dict([(\"10-Year Revenue Change, Dynamic (billions)\",\n",
    "                         \"currency_fmt(ten_year_cost_PE(calc_cl, calc_dict[key1][key2], beh_dict[key2]))\"),\n",
    "                        (\"10-Year Revenue Change, Static (billions)\",\n",
    "                         \"currency_fmt(ten_year_cost(calc_cl, calc_dict[key1][key2]))\"),\n",
    "                        (\"Deduction Cap, Joint Filers\",\n",
    "                         \"double(key1)\"),\n",
    "                        (\"Itemizers (millions)\",\n",
    "                         \"'{:,.1f}'.format(num_ided(calc_dict[key1][key2]) / 10.0**6)\"),\n",
    "                        (\"Taxpayers Facing Lower Marginal Tax Rate (millions)\",\n",
    "                         \"'{:,.1f}'.format(lwrMTR_wages(calc_cl, calc_dict[key1][key2]) / 10.0**6)\"),\n",
    "                        (\"Taxpayers Paying Zero or Less Income Tax (millions)\",\n",
    "                         \"'{:,.1f}'.format(no_inc_tax(calc_dict[key1][key2]) / 10.0**6)\"),\n",
    "                        (\"Taxpayers Receiving Tax Cut (millions)\",\n",
    "                         \"'{:,.1f}'.format(num_taxcut(calc_cl, calc_dict[key1][key2]) / 10.0**6)\"),\n",
    "                        (\"Taxpayers Receiving Tax Hike (millions)\",\n",
    "                         \"'{:,.1f}'.format(num_taxhike(calc_cl, calc_dict[key1][key2]) / 10.0**6)\"),\n",
    "                        (\"Taxpayers Receiving CTC (millions)\",\n",
    "                         \"'{:,.1f}'.format(num_ctc(calc_dict[key1][key2]) / 10.0**6)\"),\n",
    "                        (\"Total Charitable Contributions (billions)\",\n",
    "                         \"currency_fmt(num_charity(calc_dict[key1][key2]))\"),\n",
    "                        (\"Wght. Ave. MTR on Charitable Contributions\",\n",
    "                         \"'{:.2f}'.format(100 * charity_wmtr(calc_dict[key1][key2]))\"),\n",
    "                        (\"Reform\",\n",
    "                         \"key1\"),\n",
    "                        (\"Behavior\",\n",
    "                         \"key2\")])"
   ]
  },
  {
   "cell_type": "markdown",
   "metadata": {},
   "source": [
    "In this example we include *'10-Year Revenue Change, Dynamic (billions)'* as the last variable in `table_vars_dict`. The table function will look up the variable and return the token string, `\"currency_fmt(ten_year_cost_PE(calc_cl, calc_dict[key1][key2], beh_dict[key2]))\"`. When executed this token will calculate the ten year cost using dynamics for each calculator defined in the `calc_dict`. The number of calculators in the `calc_dict` is equal to the number of behaviors times the number of policy reforms. Note the last two variables in `table_vars_dict`, `Reform` and `Behavior`. `Reform` allows the inclusion of the policy reform label in the leftmost column while `Behavior` allows the inclusion of the behavior label in the leftmost column. "
   ]
  },
  {
   "cell_type": "markdown",
   "metadata": {},
   "source": [
    "Using the inputs already defined, auto_notebook now executes the `auto_calc.py` file. This generates a dictionary of calculators for each combination of behavior and policy. It also generates a dictionary of ten year cost estimates using both static and dynamic methods. This requires quite a bit of computing power and does take some time to render. The remaining functions refer to these dictionaries when assembling the report. "
   ]
  },
  {
   "cell_type": "code",
   "execution_count": 13,
   "metadata": {
    "collapsed": false
   },
   "outputs": [
    {
     "name": "stdout",
     "output_type": "stream",
     "text": [
      "----------------------------------------------------------------------\n",
      "Begin execution of auto_calc.py\n",
      "----------------------------------------------------------------------\n",
      " \n",
      "You loaded data for 2009.\n",
      "Tax-Calculator startup automatically extrapolated your data to 2013.\n",
      " \n",
      "----------------------------------------------------------------------\n",
      "Begin calculator generation\n",
      "----------------------------------------------------------------------\n",
      "You loaded data for 2009.\n",
      "Tax-Calculator startup automatically extrapolated your data to 2013.\n",
      "You loaded data for 2009.\n",
      "Tax-Calculator startup automatically extrapolated your data to 2013.\n",
      "Done\n",
      "You loaded data for 2009.\n",
      "Tax-Calculator startup automatically extrapolated your data to 2013.\n",
      "You loaded data for 2009.\n",
      "Tax-Calculator startup automatically extrapolated your data to 2013.\n",
      "Done\n",
      "You loaded data for 2009.\n",
      "Tax-Calculator startup automatically extrapolated your data to 2013.\n",
      "You loaded data for 2009.\n",
      "Tax-Calculator startup automatically extrapolated your data to 2013.\n",
      "Done\n",
      "----------------------------------------------------------------------\n",
      "Calculator generation complete\n",
      "----------------------------------------------------------------------\n",
      " \n",
      "----------------------------------------------------------------------\n",
      "Ten year cost estimates (static)\n",
      "----------------------------------------------------------------------\n",
      "0.0\n",
      "504.817819232\n",
      "2048.27294639\n",
      "Done\n",
      "----------------------------------------------------------------------\n",
      "Ten year cost estimates (static) complete\n",
      "----------------------------------------------------------------------\n",
      " \n",
      "----------------------------------------------------------------------\n",
      "Perform ten year cost estimates (with behavioral response)\n",
      "----------------------------------------------------------------------\n",
      "0.0\n",
      "559.938958186\n",
      "2091.49025108\n",
      "Done\n",
      "----------------------------------------------------------------------\n",
      "Ten year cost estimates (with behavioral response) complete\n",
      "----------------------------------------------------------------------\n",
      " \n",
      "----------------------------------------------------------------------\n",
      "Execution of auto_calc.py complete\n",
      "----------------------------------------------------------------------\n"
     ]
    }
   ],
   "source": [
    "execfile('auto_calc.py')"
   ]
  },
  {
   "cell_type": "markdown",
   "metadata": {},
   "source": [
    "The following variables are used in the generation of the report and are relatively self-explanatory."
   ]
  },
  {
   "cell_type": "code",
   "execution_count": 14,
   "metadata": {
    "collapsed": true
   },
   "outputs": [],
   "source": [
    "\"\"\"\n",
    "Document Settings\n",
    "\"\"\"\n",
    "project_name = 'personal_exemption'\n",
    "paper_title = 'Repealing the Personal Exemption'\n",
    "paper_subtitle = 'Powered by Open Source Policy Modeling'\n",
    "paper_author = ' Alex Brill'\n",
    "paper_institute = 'American Enterprise Institute'\n",
    "paper_date = NoEscape(r'\\today')\n",
    "paper_series = 'Tax Brief Series'\n",
    "paper_bio = 'is a research fellow at the American Enterprise Institute (AEI).'"
   ]
  },
  {
   "cell_type": "code",
   "execution_count": 15,
   "metadata": {
    "collapsed": true
   },
   "outputs": [],
   "source": [
    "execfile('auto_func.py')"
   ]
  },
  {
   "cell_type": "markdown",
   "metadata": {},
   "source": [
    "The following variables are used as the body of the report and are relatively self-explanatory."
   ]
  },
  {
   "cell_type": "code",
   "execution_count": 16,
   "metadata": {
    "collapsed": false
   },
   "outputs": [],
   "source": [
    "# This string is included under the 'policy' heading\n",
    "policy_string = \"Under current law, taxpayers can claim a personal exemption \\\n",
    "for themselves, their spouse, and each qualified dependent. The personal exemption amount will be $4,050 in 2017. \\\n",
    "The actual benefit depends on the taxpayer's marginal tax rate and gross income. \\\n",
    "Taxpayer's can also claim a standard deduction as an alternative to itemizing one's deductions. \\\n",
    "In 2017, the standard deduction will be $6,350 for single filers, $9,350 for head of \\\n",
    "household filers, and $12,700 for married couples filing jointly.\"\n",
    "\n",
    "# This string is included under the 'reform options' heading\n",
    "options_string = \"Using the open-source Tax-Calculator, I present the results of two modifications to current law: (1) \\\n",
    "repeal all itemized deductions (IDs) except mortgage interest deduction and charitable deduction and double standard deduction (SD), or \\\n",
    "(2) repeal these deductions, double standard deduction, and repeal the personal exemption (PE). \\\n",
    "These reforms implemented in each iteration of the model.\"\n",
    "\n",
    "# the following string is included under the 'modeling notes' heading and 'tax-calculator' subheading\n",
    "tax_calculator_string = \"Tax-Calculator is an open source \\\n",
    "microsimulation tax model that computes federal individual income taxes and Federal Insurance \\\n",
    "Contribution Act (FICA) taxes for a sample of tax filing units for years beginning with 2013. \\\n",
    "The model can be used to simulate changes to federal tax policy to conduct revenue scoring, \\\n",
    "distributional impacts, and reform analysis. As an open source model, Tax-Calculator is under \\\n",
    "constant development and improvement. Therefore, the results reported in this paper will change \\\n",
    "as imporvements are made. The model relies on data from the 2009 IRS Public Use File (PUF). \\\n",
    "These results are generated using Tax-Calculator Version 0.8.3.\"\n",
    "\n",
    "# the following string is included under the 'modeling notes' heading and 'modeling assumptions' subheading\n",
    "modeling_assumptions_string = \"The simulation is a partial equalibrium analysis that uses an \\\n",
    "elasticity of taxable income of 0.4. The following itemized deductions are repealed as part of the reforms: \\\n",
    "medical expenses, state and local taxes, real estate, interest, and charity (as labelled in Tax-Calculator).\""
   ]
  },
  {
   "cell_type": "markdown",
   "metadata": {},
   "source": [
    "Bullet points can be added to the report by defining them and including them in the `bullets_nstd` list. The bullets draw on functions defined in `auto_func.py` to perform calculations. "
   ]
  },
  {
   "cell_type": "code",
   "execution_count": 21,
   "metadata": {
    "collapsed": true
   },
   "outputs": [],
   "source": [
    "# the following bullets are included under the 'comments' section\n",
    "bullet_0 = (\"The budgetary difference between those two options is \" +\n",
    "            str('{:.1f} million'.format(abs(ten_year_cost_PE(calc_dict['Repeal ID, Double SD, & Repeal PE']['Dynamic'],\n",
    "                                                             calc_dict['Repeal ID & Double SD']['Dynamic'],\n",
    "                                                             beh_dict['Dynamic'])))) +\n",
    "            \" over 10 years.\")\n",
    "\n",
    "bullet_1 = (\"Under current law, \" \n",
    "            + str('{:.1f} million'.format(num_std(calc_cl) / 10**6)) \n",
    "            + \" taxpayers are expected to claim the standard deduction, and \" \n",
    "            + str('{:.1f} million'.format(num_ided(calc_cl) / 10**6)) \n",
    "            + \" are expected to itemize their deductions in \" + str(start_year) + \".\")\n",
    "\n",
    "bullet_2 = (\"When all itemized deductions are repealed, the standard deduction is doubled, \"\n",
    "            + \"and the personal exemption is kept in place the number of itemizers decreases from, \"\n",
    "            + str('{:.1f} million'.format(num_ided(calc_dict['Current Law']['Dynamic']) / 10**6))\n",
    "            + \" to \" \n",
    "            + str('{:.1f} million'.format(num_ided(calc_dict['Repeal ID & Double SD']['Dynamic']) / 10**6))\n",
    "            + \" and \"\n",
    "            + str('{:,.1f} million'.format(lwrMTR_wages(calc_cl, calc_dict['Repeal ID & Double SD']['Dynamic']) / 10.0**6)) \n",
    "            + \" taxpayers face a lower marginal rate.\")\n",
    "            \n",
    "bullet_3 = (\"If in addition the personal exemption is eliminated, \" \n",
    "            + str('{:,.1f}'.format((num_taxcut(calc_cl, calc_dict['Repeal ID, Double SD, & Repeal PE']['Dynamic']) - num_taxcut(calc_cl, calc_dict['Repeal ID & Double SD']['Dynamic'])) / 10.0**6))\n",
    "            + \" million fewer taxpayers receive a tax cut and \"\n",
    "            + str('{:,.1f}'.format((lwrMTR_wages(calc_cl, calc_dict['Repeal ID, Double SD, & Repeal PE']['Dynamic']) - lwrMTR_wages(calc_cl, calc_dict['Repeal ID & Double SD']['Dynamic'])) / 10.0**6))\n",
    "            + \" million fewer will face a lower rate.\")            \n",
    "\n",
    "bullets_std = []\n",
    "bullets_nstd = [bullet_0, bullet_1, bullet_2, bullet_3]"
   ]
  },
  {
   "cell_type": "markdown",
   "metadata": {},
   "source": [
    "The following commands execute `auto_func.py` functions which assemble the LaTeX document and render a PDF. Any individual command can be removed from this as desired by the author."
   ]
  },
  {
   "cell_type": "code",
   "execution_count": 22,
   "metadata": {
    "collapsed": false
   },
   "outputs": [],
   "source": [
    "# produce document\n",
    "#!    graphs are currently uncommented\n",
    "\n",
    "doc = Document(project_name, geometry_options = {'top': '1.0in', 'bottom': '1.0in'})\n",
    "add_packages(doc)\n",
    "header(doc)\n",
    "policy(doc)\n",
    "options(doc)\n",
    "v2_table(doc)\n",
    "auto_comments(doc)\n",
    "notes(doc)\n",
    "author(doc)\n",
    "logo_footer(doc)\n",
    "doc.generate_pdf(project_name + '_Example', clean_tex=False)"
   ]
  },
  {
   "cell_type": "code",
   "execution_count": null,
   "metadata": {
    "collapsed": true
   },
   "outputs": [],
   "source": []
  }
 ],
 "metadata": {
  "kernelspec": {
   "display_name": "Python 2",
   "language": "python",
   "name": "python2"
  },
  "language_info": {
   "codemirror_mode": {
    "name": "ipython",
    "version": 2
   },
   "file_extension": ".py",
   "mimetype": "text/x-python",
   "name": "python",
   "nbconvert_exporter": "python",
   "pygments_lexer": "ipython2",
   "version": "2.7.13"
  }
 },
 "nbformat": 4,
 "nbformat_minor": 2
}
